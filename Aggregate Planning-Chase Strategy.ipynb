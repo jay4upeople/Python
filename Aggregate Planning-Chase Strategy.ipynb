{
 "cells": [
  {
   "cell_type": "markdown",
   "metadata": {},
   "source": [
    "# optimization program"
   ]
  },
  {
   "cell_type": "code",
   "execution_count": 21,
   "metadata": {
    "collapsed": true
   },
   "outputs": [],
   "source": [
    "from pulp import *\n",
    "import time\n",
    "from datetime import timedelta"
   ]
  },
  {
   "cell_type": "markdown",
   "metadata": {
    "collapsed": true
   },
   "source": [
    "# iteration variables\n",
    "\n",
    "     t    month"
   ]
  },
  {
   "cell_type": "code",
   "execution_count": 22,
   "metadata": {
    "collapsed": false
   },
   "outputs": [],
   "source": [
    "month = [0,1,2,3,4,5,6,7,8,9,10,11,12]\n",
    "m = len(month)\n",
    "demand = [0,21306,20477,18203,11106,5692,8616,9828,10273,14217,9520,18007,21662]\n",
    "D = dict(zip(month,demand))"
   ]
  },
  {
   "cell_type": "markdown",
   "metadata": {},
   "source": [
    "# Decision variables\n",
    "\n",
    "   \n",
    "    Pt   Workers assigned to production in month t\n",
    "    Tt   Workers assigned to training in month t\n",
    "    Lt   Laid off workers in month t\n",
    "    Ft   Workers fired at the beginning of month t\n",
    "    Rt   Total recruits hired at the beginning of month t\n",
    "    It   Cumulative inventory at the end of month t\n",
    "    St   Cumulative shortages (backlogs) at the end of month t\n",
    "   \n"
   ]
  },
  {
   "cell_type": "code",
   "execution_count": 23,
   "metadata": {
    "collapsed": false
   },
   "outputs": [],
   "source": [
    "P = LpVariable.dicts('P', month, cat = 'Integer', lowBound = 0)\n",
    "T = LpVariable.dicts('T', month, cat = 'Integer', lowBound = 0)\n",
    "L = LpVariable.dicts('L', month, cat = 'Integer', lowBound = 0)\n",
    "F = LpVariable.dicts('F', month, cat = 'Integer', lowBound = 0)\n",
    "R = LpVariable.dicts('R', month, cat = 'Integer', lowBound = 0)\n",
    "I = LpVariable.dicts('I', month, cat = 'Integer', lowBound = 0)\n",
    "S = LpVariable.dicts('S', month, cat = 'Integer', lowBound = 0) \n",
    "W = LpVariable.dicts('W', month, cat = 'Integer', lowBound = 0)\n",
    "X = LpVariable.dicts('X', month, cat = 'Integer', lowBound = 0)"
   ]
  },
  {
   "cell_type": "markdown",
   "metadata": {},
   "source": [
    "# Parameters\n",
    "     Wt   Total workers at the begining of the month t, before firing\n",
    "     Xt   Number of units of C produced during month t"
   ]
  },
  {
   "cell_type": "markdown",
   "metadata": {},
   "source": [
    " # Objective function\n",
    " \n",
    "$ \\displaystyle MIN = 15000\\sum_{t=1}^{12}P_t  + 15000\\sum_{t=1}^{12} L_t+ 45000\\sum_{t=1}^{12} F_t + 5000\\sum_{t=1}^{12} R_t + 15000\\sum_{t=1}^{12} T_t + 10\\sum_{t=1}^{12} I_t + 200\\sum_{t=1}^{12} S_t $ "
   ]
  },
  {
   "cell_type": "code",
   "execution_count": 24,
   "metadata": {
    "collapsed": false
   },
   "outputs": [],
   "source": [
    "model = LpProblem(\"Aggregate Planning\", LpMinimize)\n",
    "model += 20000*sum(P[t] for t in month[1:13]) + 15000*sum(L[t] for t in month[1:13]) + 45000*sum(F[t] for t in month[1:13]) + 8000*sum(R[t] for t in month[1:13])  + 20000*sum(T[t] for t in month[1:13])+ 10*sum(I[t] for t in month[1:13]) + 200*sum(S[t] for t in month[1:13])"
   ]
  },
  {
   "cell_type": "markdown",
   "metadata": {},
   "source": [
    "# Data\n",
    "\n",
    "    W_1 = 20\n",
    "    I_0 = 1000\n",
    "    W_12 = 20\n",
    "    I_12 = 1000\n",
    "    S_12 = 0"
   ]
  },
  {
   "cell_type": "code",
   "execution_count": 25,
   "metadata": {
    "collapsed": false
   },
   "outputs": [],
   "source": [
    "model += I[0] == 1000\n",
    "model += S[0] == 0\n",
    "model += W[1] == 20\n",
    "model += W[12] == 20\n",
    "model += I[12] == 1000\n",
    "model += S[12] == 0\n",
    "#dummy\n",
    "model += W[0] == 0\n",
    "model += L[0] == 0\n",
    "model += R[0] == 0\n",
    "model += T[0] == 0\n",
    "model += X[0] == 0\n",
    "model += P[0] == 0\n",
    "model += F[0] == 0"
   ]
  },
  {
   "cell_type": "markdown",
   "metadata": {},
   "source": [
    "# Constraints\n",
    "\n",
    "### Size of workforce  \n",
    "$ \\displaystyle W_t = W_{t-1} + R_{t-1} - F_{t-1} $\n",
    "\n",
    "### Assignment of workforce\n",
    "$ \\displaystyle W_t = P_t + T_t + L_t + F_t $\n",
    "\n",
    "### Training\n",
    "$ \\displaystyle R_t \\leq 5T_t $\n",
    "\n",
    "\n",
    "### Demand / Inventory balance\n",
    "$ \\displaystyle X_t + I_{t-1} = D_t + S_{t-1} + I_t - S_t $\n",
    "\n",
    "\n",
    "### Production capacity\n",
    "$ \\displaystyle X_t \\leq 1500P_t $\n",
    "\n",
    "\n",
    "### Non-negativity constraints\n",
    "$ \\displaystyle P_t, T_t, L_t, F_t, R_t, I_t, S_t, X_t >= 0  \\quad  ∀ t = 1, 2, 3, ..., 12$\n",
    "\n",
    "\n",
    "### Integer constraints\n",
    "$ \\displaystyle P_t, T_t, L_t, F_t, R_t, I_t, S_t, X_t \\quad are \\, all \\,  integers $\n"
   ]
  },
  {
   "cell_type": "code",
   "execution_count": 26,
   "metadata": {
    "collapsed": false
   },
   "outputs": [],
   "source": [
    "# Constraints\n",
    "# Constraint 1\n",
    "for t in month[2:13]:\n",
    "    model += W[t] == W[t-1] + R[t-1] - F[t-1]"
   ]
  },
  {
   "cell_type": "code",
   "execution_count": 27,
   "metadata": {
    "collapsed": false
   },
   "outputs": [],
   "source": [
    "# Constraint 2\n",
    "for t in month[1:13]:\n",
    "    model += W[t] == P[t] + L[t] + F[t] + T[t]"
   ]
  },
  {
   "cell_type": "code",
   "execution_count": 28,
   "metadata": {
    "collapsed": false
   },
   "outputs": [],
   "source": [
    "# Constraint 3\n",
    "for t in month[1:13]:\n",
    "    model += R[t] <= 5*T[t]"
   ]
  },
  {
   "cell_type": "code",
   "execution_count": 29,
   "metadata": {
    "collapsed": false
   },
   "outputs": [],
   "source": [
    "#Constraint 4\n",
    "for t in month[1:13]:\n",
    "    model += X[t] + I[t-1] == D[t] + S[t-1] + I[t] - S[t]"
   ]
  },
  {
   "cell_type": "code",
   "execution_count": 30,
   "metadata": {
    "collapsed": true
   },
   "outputs": [],
   "source": [
    "# Constraint 5\n",
    "for t in month[1:13]:\n",
    "    model += X[t] <= 1500*P[t]"
   ]
  },
  {
   "cell_type": "code",
   "execution_count": 31,
   "metadata": {
    "collapsed": false
   },
   "outputs": [
    {
     "name": "stdout",
     "output_type": "stream",
     "text": [
      "Aggregate Planning:\n",
      "MINIMIZE\n",
      "45000*F_1 + 45000*F_10 + 45000*F_11 + 45000*F_12 + 45000*F_2 + 45000*F_3 + 45000*F_4 + 45000*F_5 + 45000*F_6 + 45000*F_7 + 45000*F_8 + 45000*F_9 + 10*I_1 + 10*I_10 + 10*I_11 + 10*I_12 + 10*I_2 + 10*I_3 + 10*I_4 + 10*I_5 + 10*I_6 + 10*I_7 + 10*I_8 + 10*I_9 + 15000*L_1 + 15000*L_10 + 15000*L_11 + 15000*L_12 + 15000*L_2 + 15000*L_3 + 15000*L_4 + 15000*L_5 + 15000*L_6 + 15000*L_7 + 15000*L_8 + 15000*L_9 + 20000*P_1 + 20000*P_10 + 20000*P_11 + 20000*P_12 + 20000*P_2 + 20000*P_3 + 20000*P_4 + 20000*P_5 + 20000*P_6 + 20000*P_7 + 20000*P_8 + 20000*P_9 + 8000*R_1 + 8000*R_10 + 8000*R_11 + 8000*R_12 + 8000*R_2 + 8000*R_3 + 8000*R_4 + 8000*R_5 + 8000*R_6 + 8000*R_7 + 8000*R_8 + 8000*R_9 + 200*S_1 + 200*S_10 + 200*S_11 + 200*S_12 + 200*S_2 + 200*S_3 + 200*S_4 + 200*S_5 + 200*S_6 + 200*S_7 + 200*S_8 + 200*S_9 + 20000*T_1 + 20000*T_10 + 20000*T_11 + 20000*T_12 + 20000*T_2 + 20000*T_3 + 20000*T_4 + 20000*T_5 + 20000*T_6 + 20000*T_7 + 20000*T_8 + 20000*T_9 + 0\n",
      "SUBJECT TO\n",
      "_C1: I_0 = 1000\n",
      "\n",
      "_C2: S_0 = 0\n",
      "\n",
      "_C3: W_1 = 20\n",
      "\n",
      "_C4: W_12 = 20\n",
      "\n",
      "_C5: I_12 = 1000\n",
      "\n",
      "_C6: S_12 = 0\n",
      "\n",
      "_C7: W_0 = 0\n",
      "\n",
      "_C8: L_0 = 0\n",
      "\n",
      "_C9: R_0 = 0\n",
      "\n",
      "_C10: T_0 = 0\n",
      "\n",
      "_C11: X_0 = 0\n",
      "\n",
      "_C12: P_0 = 0\n",
      "\n",
      "_C13: F_0 = 0\n",
      "\n",
      "_C14: F_1 - R_1 - W_1 + W_2 = 0\n",
      "\n",
      "_C15: F_2 - R_2 - W_2 + W_3 = 0\n",
      "\n",
      "_C16: F_3 - R_3 - W_3 + W_4 = 0\n",
      "\n",
      "_C17: F_4 - R_4 - W_4 + W_5 = 0\n",
      "\n",
      "_C18: F_5 - R_5 - W_5 + W_6 = 0\n",
      "\n",
      "_C19: F_6 - R_6 - W_6 + W_7 = 0\n",
      "\n",
      "_C20: F_7 - R_7 - W_7 + W_8 = 0\n",
      "\n",
      "_C21: F_8 - R_8 - W_8 + W_9 = 0\n",
      "\n",
      "_C22: F_9 - R_9 + W_10 - W_9 = 0\n",
      "\n",
      "_C23: F_10 - R_10 - W_10 + W_11 = 0\n",
      "\n",
      "_C24: F_11 - R_11 - W_11 + W_12 = 0\n",
      "\n",
      "_C25: - F_1 - L_1 - P_1 - T_1 + W_1 = 0\n",
      "\n",
      "_C26: - F_2 - L_2 - P_2 - T_2 + W_2 = 0\n",
      "\n",
      "_C27: - F_3 - L_3 - P_3 - T_3 + W_3 = 0\n",
      "\n",
      "_C28: - F_4 - L_4 - P_4 - T_4 + W_4 = 0\n",
      "\n",
      "_C29: - F_5 - L_5 - P_5 - T_5 + W_5 = 0\n",
      "\n",
      "_C30: - F_6 - L_6 - P_6 - T_6 + W_6 = 0\n",
      "\n",
      "_C31: - F_7 - L_7 - P_7 - T_7 + W_7 = 0\n",
      "\n",
      "_C32: - F_8 - L_8 - P_8 - T_8 + W_8 = 0\n",
      "\n",
      "_C33: - F_9 - L_9 - P_9 - T_9 + W_9 = 0\n",
      "\n",
      "_C34: - F_10 - L_10 - P_10 - T_10 + W_10 = 0\n",
      "\n",
      "_C35: - F_11 - L_11 - P_11 - T_11 + W_11 = 0\n",
      "\n",
      "_C36: - F_12 - L_12 - P_12 - T_12 + W_12 = 0\n",
      "\n",
      "_C37: R_1 - 5 T_1 <= 0\n",
      "\n",
      "_C38: R_2 - 5 T_2 <= 0\n",
      "\n",
      "_C39: R_3 - 5 T_3 <= 0\n",
      "\n",
      "_C40: R_4 - 5 T_4 <= 0\n",
      "\n",
      "_C41: R_5 - 5 T_5 <= 0\n",
      "\n",
      "_C42: R_6 - 5 T_6 <= 0\n",
      "\n",
      "_C43: R_7 - 5 T_7 <= 0\n",
      "\n",
      "_C44: R_8 - 5 T_8 <= 0\n",
      "\n",
      "_C45: R_9 - 5 T_9 <= 0\n",
      "\n",
      "_C46: R_10 - 5 T_10 <= 0\n",
      "\n",
      "_C47: R_11 - 5 T_11 <= 0\n",
      "\n",
      "_C48: R_12 - 5 T_12 <= 0\n",
      "\n",
      "_C49: I_0 - I_1 - S_0 + S_1 + X_1 = 21306\n",
      "\n",
      "_C50: I_1 - I_2 - S_1 + S_2 + X_2 = 20477\n",
      "\n",
      "_C51: I_2 - I_3 - S_2 + S_3 + X_3 = 18203\n",
      "\n",
      "_C52: I_3 - I_4 - S_3 + S_4 + X_4 = 11106\n",
      "\n",
      "_C53: I_4 - I_5 - S_4 + S_5 + X_5 = 5692\n",
      "\n",
      "_C54: I_5 - I_6 - S_5 + S_6 + X_6 = 8616\n",
      "\n",
      "_C55: I_6 - I_7 - S_6 + S_7 + X_7 = 9828\n",
      "\n",
      "_C56: I_7 - I_8 - S_7 + S_8 + X_8 = 10273\n",
      "\n",
      "_C57: I_8 - I_9 - S_8 + S_9 + X_9 = 14217\n",
      "\n",
      "_C58: - I_10 + I_9 + S_10 - S_9 + X_10 = 9520\n",
      "\n",
      "_C59: I_10 - I_11 - S_10 + S_11 + X_11 = 18007\n",
      "\n",
      "_C60: I_11 - I_12 - S_11 + S_12 + X_12 = 21662\n",
      "\n",
      "_C61: - 1500 P_1 + X_1 <= 0\n",
      "\n",
      "_C62: - 1500 P_2 + X_2 <= 0\n",
      "\n",
      "_C63: - 1500 P_3 + X_3 <= 0\n",
      "\n",
      "_C64: - 1500 P_4 + X_4 <= 0\n",
      "\n",
      "_C65: - 1500 P_5 + X_5 <= 0\n",
      "\n",
      "_C66: - 1500 P_6 + X_6 <= 0\n",
      "\n",
      "_C67: - 1500 P_7 + X_7 <= 0\n",
      "\n",
      "_C68: - 1500 P_8 + X_8 <= 0\n",
      "\n",
      "_C69: - 1500 P_9 + X_9 <= 0\n",
      "\n",
      "_C70: - 1500 P_10 + X_10 <= 0\n",
      "\n",
      "_C71: - 1500 P_11 + X_11 <= 0\n",
      "\n",
      "_C72: - 1500 P_12 + X_12 <= 0\n",
      "\n",
      "VARIABLES\n",
      "0 <= F_0 Integer\n",
      "0 <= F_1 Integer\n",
      "0 <= F_10 Integer\n",
      "0 <= F_11 Integer\n",
      "0 <= F_12 Integer\n",
      "0 <= F_2 Integer\n",
      "0 <= F_3 Integer\n",
      "0 <= F_4 Integer\n",
      "0 <= F_5 Integer\n",
      "0 <= F_6 Integer\n",
      "0 <= F_7 Integer\n",
      "0 <= F_8 Integer\n",
      "0 <= F_9 Integer\n",
      "0 <= I_0 Integer\n",
      "0 <= I_1 Integer\n",
      "0 <= I_10 Integer\n",
      "0 <= I_11 Integer\n",
      "0 <= I_12 Integer\n",
      "0 <= I_2 Integer\n",
      "0 <= I_3 Integer\n",
      "0 <= I_4 Integer\n",
      "0 <= I_5 Integer\n",
      "0 <= I_6 Integer\n",
      "0 <= I_7 Integer\n",
      "0 <= I_8 Integer\n",
      "0 <= I_9 Integer\n",
      "0 <= L_0 Integer\n",
      "0 <= L_1 Integer\n",
      "0 <= L_10 Integer\n",
      "0 <= L_11 Integer\n",
      "0 <= L_12 Integer\n",
      "0 <= L_2 Integer\n",
      "0 <= L_3 Integer\n",
      "0 <= L_4 Integer\n",
      "0 <= L_5 Integer\n",
      "0 <= L_6 Integer\n",
      "0 <= L_7 Integer\n",
      "0 <= L_8 Integer\n",
      "0 <= L_9 Integer\n",
      "0 <= P_0 Integer\n",
      "0 <= P_1 Integer\n",
      "0 <= P_10 Integer\n",
      "0 <= P_11 Integer\n",
      "0 <= P_12 Integer\n",
      "0 <= P_2 Integer\n",
      "0 <= P_3 Integer\n",
      "0 <= P_4 Integer\n",
      "0 <= P_5 Integer\n",
      "0 <= P_6 Integer\n",
      "0 <= P_7 Integer\n",
      "0 <= P_8 Integer\n",
      "0 <= P_9 Integer\n",
      "0 <= R_0 Integer\n",
      "0 <= R_1 Integer\n",
      "0 <= R_10 Integer\n",
      "0 <= R_11 Integer\n",
      "0 <= R_12 Integer\n",
      "0 <= R_2 Integer\n",
      "0 <= R_3 Integer\n",
      "0 <= R_4 Integer\n",
      "0 <= R_5 Integer\n",
      "0 <= R_6 Integer\n",
      "0 <= R_7 Integer\n",
      "0 <= R_8 Integer\n",
      "0 <= R_9 Integer\n",
      "0 <= S_0 Integer\n",
      "0 <= S_1 Integer\n",
      "0 <= S_10 Integer\n",
      "0 <= S_11 Integer\n",
      "0 <= S_12 Integer\n",
      "0 <= S_2 Integer\n",
      "0 <= S_3 Integer\n",
      "0 <= S_4 Integer\n",
      "0 <= S_5 Integer\n",
      "0 <= S_6 Integer\n",
      "0 <= S_7 Integer\n",
      "0 <= S_8 Integer\n",
      "0 <= S_9 Integer\n",
      "0 <= T_0 Integer\n",
      "0 <= T_1 Integer\n",
      "0 <= T_10 Integer\n",
      "0 <= T_11 Integer\n",
      "0 <= T_12 Integer\n",
      "0 <= T_2 Integer\n",
      "0 <= T_3 Integer\n",
      "0 <= T_4 Integer\n",
      "0 <= T_5 Integer\n",
      "0 <= T_6 Integer\n",
      "0 <= T_7 Integer\n",
      "0 <= T_8 Integer\n",
      "0 <= T_9 Integer\n",
      "0 <= W_0 Integer\n",
      "0 <= W_1 Integer\n",
      "0 <= W_10 Integer\n",
      "0 <= W_11 Integer\n",
      "0 <= W_12 Integer\n",
      "0 <= W_2 Integer\n",
      "0 <= W_3 Integer\n",
      "0 <= W_4 Integer\n",
      "0 <= W_5 Integer\n",
      "0 <= W_6 Integer\n",
      "0 <= W_7 Integer\n",
      "0 <= W_8 Integer\n",
      "0 <= W_9 Integer\n",
      "0 <= X_0 Integer\n",
      "0 <= X_1 Integer\n",
      "0 <= X_10 Integer\n",
      "0 <= X_11 Integer\n",
      "0 <= X_12 Integer\n",
      "0 <= X_2 Integer\n",
      "0 <= X_3 Integer\n",
      "0 <= X_4 Integer\n",
      "0 <= X_5 Integer\n",
      "0 <= X_6 Integer\n",
      "0 <= X_7 Integer\n",
      "0 <= X_8 Integer\n",
      "0 <= X_9 Integer\n",
      "\n"
     ]
    }
   ],
   "source": [
    "# save model to LP File\n",
    "model.writeLP('AggregatePlanning.lp')\n",
    "# view model\n",
    "print(model)"
   ]
  },
  {
   "cell_type": "code",
   "execution_count": 32,
   "metadata": {
    "collapsed": false
   },
   "outputs": [
    {
     "name": "stdout",
     "output_type": "stream",
     "text": [
      "Status: Optimal\n",
      "Objective:  3234430.0\n",
      "Duration: 0:00:00.936000\n"
     ]
    }
   ],
   "source": [
    "# solve the model\n",
    "start_time = time.monotonic()\n",
    "model.solve()\n",
    "end_time = time.monotonic()\n",
    "print(\"Status:\",LpStatus[model.status])\n",
    "print(\"Objective: \",value(model.objective))\n",
    "print(\"Duration:\",timedelta(seconds=end_time - start_time))"
   ]
  },
  {
   "cell_type": "markdown",
   "metadata": {},
   "source": [
    "### display optimized variable value"
   ]
  },
  {
   "cell_type": "code",
   "execution_count": 33,
   "metadata": {
    "collapsed": false
   },
   "outputs": [],
   "source": [
    "# create empty table\n",
    "import pandas as pd\n",
    "df = pd.DataFrame(index = range(0,13), columns=['month_ref','W','P','T','L','F','I','R','S','X','D'])\n",
    "df = df.fillna(0)\n",
    "# rearrange demand\n",
    "demand = [0,21306,9520,18007,21662,20477,18203,11106,5692,8616,9828,10273,14217]\n",
    "df['D'] = demand\n",
    "df['month_ref'] = model.variables()[0:13]"
   ]
  },
  {
   "cell_type": "code",
   "execution_count": 34,
   "metadata": {
    "collapsed": false
   },
   "outputs": [],
   "source": [
    "# function to get values\n",
    "import re\n",
    "def val(col, var):\n",
    "    x = pd.Series([0,0,0,0,0,0,0,0,0,0,0,0,0])\n",
    "    i = 0\n",
    "    for v in var:\n",
    "        if(re.compile(col).match(v.name,0)):\n",
    "            x[i] = v.varValue\n",
    "            i = i+1\n",
    "    return(x.values)"
   ]
  },
  {
   "cell_type": "code",
   "execution_count": 35,
   "metadata": {
    "collapsed": false
   },
   "outputs": [],
   "source": [
    "# store value in table\n",
    "df['F'] = val('F', model.variables())\n",
    "df['I'] = val('I', model.variables())\n",
    "df['L'] = val('L', model.variables())\n",
    "df['P'] = val('P', model.variables())\n",
    "df['R'] = val('R', model.variables())\n",
    "df['S'] = val('S', model.variables())\n",
    "df['T'] = val('T', model.variables())\n",
    "df['W'] = val('W', model.variables())\n",
    "df['X'] = val('X', model.variables())"
   ]
  },
  {
   "cell_type": "code",
   "execution_count": 36,
   "metadata": {
    "collapsed": false
   },
   "outputs": [
    {
     "data": {
      "text/html": [
       "<div>\n",
       "<table border=\"1\" class=\"dataframe\">\n",
       "  <thead>\n",
       "    <tr style=\"text-align: right;\">\n",
       "      <th></th>\n",
       "      <th>month_ref</th>\n",
       "      <th>W</th>\n",
       "      <th>P</th>\n",
       "      <th>T</th>\n",
       "      <th>L</th>\n",
       "      <th>F</th>\n",
       "      <th>I</th>\n",
       "      <th>R</th>\n",
       "      <th>S</th>\n",
       "      <th>X</th>\n",
       "      <th>D</th>\n",
       "    </tr>\n",
       "  </thead>\n",
       "  <tbody>\n",
       "    <tr>\n",
       "      <th>0</th>\n",
       "      <td>F_0</td>\n",
       "      <td>0</td>\n",
       "      <td>0</td>\n",
       "      <td>0</td>\n",
       "      <td>0</td>\n",
       "      <td>0</td>\n",
       "      <td>1000</td>\n",
       "      <td>0</td>\n",
       "      <td>0</td>\n",
       "      <td>0</td>\n",
       "      <td>0</td>\n",
       "    </tr>\n",
       "    <tr>\n",
       "      <th>1</th>\n",
       "      <td>F_1</td>\n",
       "      <td>20</td>\n",
       "      <td>14</td>\n",
       "      <td>0</td>\n",
       "      <td>0</td>\n",
       "      <td>6</td>\n",
       "      <td>0</td>\n",
       "      <td>0</td>\n",
       "      <td>0</td>\n",
       "      <td>20306</td>\n",
       "      <td>21306</td>\n",
       "    </tr>\n",
       "    <tr>\n",
       "      <th>2</th>\n",
       "      <td>F_10</td>\n",
       "      <td>8</td>\n",
       "      <td>7</td>\n",
       "      <td>1</td>\n",
       "      <td>0</td>\n",
       "      <td>0</td>\n",
       "      <td>1507</td>\n",
       "      <td>5</td>\n",
       "      <td>0</td>\n",
       "      <td>10500</td>\n",
       "      <td>9520</td>\n",
       "    </tr>\n",
       "    <tr>\n",
       "      <th>3</th>\n",
       "      <td>F_11</td>\n",
       "      <td>13</td>\n",
       "      <td>11</td>\n",
       "      <td>2</td>\n",
       "      <td>0</td>\n",
       "      <td>0</td>\n",
       "      <td>0</td>\n",
       "      <td>7</td>\n",
       "      <td>0</td>\n",
       "      <td>16500</td>\n",
       "      <td>18007</td>\n",
       "    </tr>\n",
       "    <tr>\n",
       "      <th>4</th>\n",
       "      <td>F_12</td>\n",
       "      <td>20</td>\n",
       "      <td>16</td>\n",
       "      <td>0</td>\n",
       "      <td>4</td>\n",
       "      <td>0</td>\n",
       "      <td>1000</td>\n",
       "      <td>0</td>\n",
       "      <td>0</td>\n",
       "      <td>22662</td>\n",
       "      <td>21662</td>\n",
       "    </tr>\n",
       "    <tr>\n",
       "      <th>5</th>\n",
       "      <td>F_2</td>\n",
       "      <td>14</td>\n",
       "      <td>14</td>\n",
       "      <td>0</td>\n",
       "      <td>0</td>\n",
       "      <td>0</td>\n",
       "      <td>203</td>\n",
       "      <td>0</td>\n",
       "      <td>0</td>\n",
       "      <td>20680</td>\n",
       "      <td>20477</td>\n",
       "    </tr>\n",
       "    <tr>\n",
       "      <th>6</th>\n",
       "      <td>F_3</td>\n",
       "      <td>14</td>\n",
       "      <td>12</td>\n",
       "      <td>0</td>\n",
       "      <td>0</td>\n",
       "      <td>2</td>\n",
       "      <td>0</td>\n",
       "      <td>0</td>\n",
       "      <td>0</td>\n",
       "      <td>18000</td>\n",
       "      <td>18203</td>\n",
       "    </tr>\n",
       "    <tr>\n",
       "      <th>7</th>\n",
       "      <td>F_4</td>\n",
       "      <td>12</td>\n",
       "      <td>8</td>\n",
       "      <td>0</td>\n",
       "      <td>0</td>\n",
       "      <td>4</td>\n",
       "      <td>0</td>\n",
       "      <td>0</td>\n",
       "      <td>0</td>\n",
       "      <td>11106</td>\n",
       "      <td>11106</td>\n",
       "    </tr>\n",
       "    <tr>\n",
       "      <th>8</th>\n",
       "      <td>F_5</td>\n",
       "      <td>8</td>\n",
       "      <td>4</td>\n",
       "      <td>0</td>\n",
       "      <td>4</td>\n",
       "      <td>0</td>\n",
       "      <td>0</td>\n",
       "      <td>0</td>\n",
       "      <td>0</td>\n",
       "      <td>5692</td>\n",
       "      <td>5692</td>\n",
       "    </tr>\n",
       "    <tr>\n",
       "      <th>9</th>\n",
       "      <td>F_6</td>\n",
       "      <td>8</td>\n",
       "      <td>6</td>\n",
       "      <td>0</td>\n",
       "      <td>2</td>\n",
       "      <td>0</td>\n",
       "      <td>345</td>\n",
       "      <td>0</td>\n",
       "      <td>0</td>\n",
       "      <td>8961</td>\n",
       "      <td>8616</td>\n",
       "    </tr>\n",
       "    <tr>\n",
       "      <th>10</th>\n",
       "      <td>F_7</td>\n",
       "      <td>8</td>\n",
       "      <td>7</td>\n",
       "      <td>0</td>\n",
       "      <td>1</td>\n",
       "      <td>0</td>\n",
       "      <td>1017</td>\n",
       "      <td>0</td>\n",
       "      <td>0</td>\n",
       "      <td>10500</td>\n",
       "      <td>9828</td>\n",
       "    </tr>\n",
       "    <tr>\n",
       "      <th>11</th>\n",
       "      <td>F_8</td>\n",
       "      <td>8</td>\n",
       "      <td>8</td>\n",
       "      <td>0</td>\n",
       "      <td>0</td>\n",
       "      <td>0</td>\n",
       "      <td>2744</td>\n",
       "      <td>0</td>\n",
       "      <td>0</td>\n",
       "      <td>12000</td>\n",
       "      <td>10273</td>\n",
       "    </tr>\n",
       "    <tr>\n",
       "      <th>12</th>\n",
       "      <td>F_9</td>\n",
       "      <td>8</td>\n",
       "      <td>8</td>\n",
       "      <td>0</td>\n",
       "      <td>0</td>\n",
       "      <td>0</td>\n",
       "      <td>527</td>\n",
       "      <td>0</td>\n",
       "      <td>0</td>\n",
       "      <td>12000</td>\n",
       "      <td>14217</td>\n",
       "    </tr>\n",
       "  </tbody>\n",
       "</table>\n",
       "</div>"
      ],
      "text/plain": [
       "   month_ref   W   P  T  L  F     I  R  S      X      D\n",
       "0        F_0   0   0  0  0  0  1000  0  0      0      0\n",
       "1        F_1  20  14  0  0  6     0  0  0  20306  21306\n",
       "2       F_10   8   7  1  0  0  1507  5  0  10500   9520\n",
       "3       F_11  13  11  2  0  0     0  7  0  16500  18007\n",
       "4       F_12  20  16  0  4  0  1000  0  0  22662  21662\n",
       "5        F_2  14  14  0  0  0   203  0  0  20680  20477\n",
       "6        F_3  14  12  0  0  2     0  0  0  18000  18203\n",
       "7        F_4  12   8  0  0  4     0  0  0  11106  11106\n",
       "8        F_5   8   4  0  4  0     0  0  0   5692   5692\n",
       "9        F_6   8   6  0  2  0   345  0  0   8961   8616\n",
       "10       F_7   8   7  0  1  0  1017  0  0  10500   9828\n",
       "11       F_8   8   8  0  0  0  2744  0  0  12000  10273\n",
       "12       F_9   8   8  0  0  0   527  0  0  12000  14217"
      ]
     },
     "execution_count": 36,
     "metadata": {},
     "output_type": "execute_result"
    }
   ],
   "source": [
    "# view table\n",
    "df"
   ]
  },
  {
   "cell_type": "code",
   "execution_count": 37,
   "metadata": {
    "collapsed": false
   },
   "outputs": [
    {
     "name": "stdout",
     "output_type": "stream",
     "text": [
      "Status: Optimal\n",
      "Objective:  3234430\n",
      "Duration: 0:00:00.280000\n"
     ]
    }
   ],
   "source": [
    "# solve the model\n",
    "start_time = time.monotonic()\n",
    "model.solve(GLPK_CMD())\n",
    "end_time = time.monotonic()\n",
    "print(\"Status:\",LpStatus[model.status])\n",
    "print(\"Objective: \",value(model.objective))\n",
    "print(\"Duration:\",timedelta(seconds=end_time - start_time))"
   ]
  },
  {
   "cell_type": "code",
   "execution_count": 38,
   "metadata": {
    "collapsed": false
   },
   "outputs": [
    {
     "name": "stdout",
     "output_type": "stream",
     "text": [
      "Optimize a model with 72 rows, 117 columns and 225 nonzeros\n",
      "Variable types: 0 continuous, 117 integer (0 binary)\n",
      "Coefficient statistics:\n",
      "  Matrix range     [1e+00, 2e+03]\n",
      "  Objective range  [1e+01, 5e+04]\n",
      "  Bounds range     [0e+00, 0e+00]\n",
      "  RHS range        [2e+01, 2e+04]\n",
      "Presolve removed 22 rows and 38 columns\n",
      "Presolve time: 0.00s\n",
      "Presolved: 50 rows, 79 columns, 176 nonzeros\n",
      "Variable types: 0 continuous, 79 integer (0 binary)\n",
      "\n",
      "Root relaxation: objective 3.175291e+06, 44 iterations, 0.00 seconds\n",
      "\n",
      "    Nodes    |    Current Node    |     Objective Bounds      |     Work\n",
      " Expl Unexpl |  Obj  Depth IntInf | Incumbent    BestBd   Gap | It/Node Time\n",
      "\n",
      "     0     0 3175290.67    0   27          - 3175290.67      -     -    0s\n",
      "     0     0 3202857.64    0   21          - 3202857.64      -     -    0s\n",
      "H    0     0                    3239170.0000 3202857.64  1.12%     -    0s\n",
      "H    0     0                    3235980.0000 3202857.64  1.02%     -    0s\n",
      "H    0     0                    3234430.0000 3202857.64  0.98%     -    0s\n",
      "     0     0 3202857.64    0   19 3234430.00 3202857.64  0.98%     -    0s\n",
      "     0     0 3208105.70    0   17 3234430.00 3208105.70  0.81%     -    0s\n",
      "     0     0 3215931.55    0   21 3234430.00 3215931.55  0.57%     -    0s\n",
      "     0     0 3216121.64    0   21 3234430.00 3216121.64  0.57%     -    0s\n",
      "     0     0 3219941.70    0   16 3234430.00 3219941.70  0.45%     -    0s\n",
      "     0     0 3219981.43    0   17 3234430.00 3219981.43  0.45%     -    0s\n",
      "     0     0 3221091.73    0   14 3234430.00 3221091.73  0.41%     -    0s\n",
      "     0     2 3221091.73    0   14 3234430.00 3221091.73  0.41%     -    0s\n",
      "\n",
      "Cutting planes:\n",
      "  Gomory: 6\n",
      "  MIR: 6\n",
      "\n",
      "Explored 6 nodes (141 simplex iterations) in 0.11 seconds\n",
      "Thread count was 4 (of 4 available processors)\n",
      "\n",
      "Solution count 3: 3.23443e+06 3.23598e+06 3.23917e+06 \n",
      "Pool objective bound 3.23443e+06\n",
      "\n",
      "Optimal solution found (tolerance 1.00e-04)\n",
      "Best objective 3.234430000000e+06, best bound 3.234430000000e+06, gap 0.0000%\n",
      "Gurobi status= 2\n",
      "Status: Optimal\n",
      "Objective:  3234430.0\n",
      "Duration: 0:00:00.125000\n"
     ]
    }
   ],
   "source": [
    "# solve the model\n",
    "start_time = time.monotonic()\n",
    "model.solve(GUROBI())\n",
    "end_time = time.monotonic()\n",
    "print(\"Status:\",LpStatus[model.status])\n",
    "print(\"Objective: \",value(model.objective))\n",
    "print(\"Duration:\",timedelta(seconds=end_time - start_time))"
   ]
  },
  {
   "cell_type": "code",
   "execution_count": 39,
   "metadata": {
    "collapsed": false
   },
   "outputs": [
    {
     "name": "stdout",
     "output_type": "stream",
     "text": [
      "Status: Optimal\n",
      "Objective:  3234430.0000000536\n",
      "Duration: 0:00:00.312000\n"
     ]
    }
   ],
   "source": [
    "# solve the model\n",
    "start_time = time.monotonic()\n",
    "model.solve(CPLEX_CMD())\n",
    "end_time = time.monotonic()\n",
    "print(\"Status:\",LpStatus[model.status])\n",
    "print(\"Objective: \",value(model.objective))\n",
    "print(\"Duration:\",timedelta(seconds=end_time - start_time))"
   ]
  },
  {
   "cell_type": "code",
   "execution_count": 40,
   "metadata": {
    "collapsed": false
   },
   "outputs": [
    {
     "name": "stdout",
     "output_type": "stream",
     "text": [
      "Tried aggregator 2 times.\n",
      "MIP Presolve eliminated 16 rows and 18 columns.\n",
      "MIP Presolve added 11 rows and 11 columns.\n",
      "Aggregator did 16 substitutions.\n",
      "Reduced MIP has 51 rows, 94 columns, and 197 nonzeros.\n",
      "Reduced MIP has 0 binaries, 94 generals, 0 SOSs, and 0 indicators.\n",
      "Presolve time = 0.00 sec. (0.19 ticks)\n",
      "Tried aggregator 1 time.\n",
      "MIP Presolve eliminated 11 rows and 11 columns.\n",
      "MIP Presolve added 11 rows and 11 columns.\n",
      "Reduced MIP has 51 rows, 94 columns, and 197 nonzeros.\n",
      "Reduced MIP has 0 binaries, 94 generals, 0 SOSs, and 0 indicators.\n",
      "Presolve time = 0.01 sec. (0.08 ticks)\n",
      "MIP emphasis: balance optimality and feasibility.\n",
      "MIP search method: dynamic search.\n",
      "Parallel mode: deterministic, using up to 4 threads.\n",
      "Root relaxation solution time = 0.00 sec. (0.17 ticks)\n",
      "\n",
      "        Nodes                                         Cuts/\n",
      "   Node  Left     Objective  IInf  Best Integer    Best Bound    ItCnt     Gap\n",
      "\n",
      "      0     0  3175290.6667    31                3175290.6667       37         \n",
      "      0     0  3211194.1196    35                   Fract: 24       51         \n",
      "      0     0  3212117.2718    38                    Fract: 2       53         \n",
      "*     0+    0                      5189740.0000  3212117.2718            38.11%\n",
      "*     0+    0                      3266230.0000  3212117.2718             1.66%\n",
      "*     0+    0                      3263150.0000  3212117.2718             1.56%\n",
      "*     0+    0                      3261390.0000  3212117.2718             1.51%\n",
      "      0     2  3212117.2718    38  3261390.0000  3212117.2718       53    1.51%\n",
      "Elapsed time = 0.12 sec. (4.71 ticks, tree = 0.01 MB, solutions = 4)\n",
      "*    11     7      integral     0  3239430.0000  3220337.4111       76    0.59%\n",
      "*    13+    8                      3234430.0000  3220337.4111             0.44%\n",
      "\n",
      "Gomory fractional cuts applied:  16\n",
      "\n",
      "Root node processing (before b&c):\n",
      "  Real time             =    0.08 sec. (4.67 ticks)\n",
      "Parallel b&c, 4 threads:\n",
      "  Real time             =    0.14 sec. (1.52 ticks)\n",
      "  Sync time (average)   =    0.08 sec.\n",
      "  Wait time (average)   =    0.01 sec.\n",
      "                          ------------\n",
      "Total (root+branch&cut) =    0.22 sec. (6.19 ticks)\n",
      "Cplex status= 101\n",
      "Status: Optimal\n",
      "Objective:  3234429.9999999087\n",
      "Duration: 0:00:00.266000\n"
     ]
    }
   ],
   "source": [
    "# solve the model\n",
    "start_time = time.monotonic()\n",
    "model.solve(CPLEX_PY())\n",
    "end_time = time.monotonic()\n",
    "print(\"Status:\",LpStatus[model.status])\n",
    "print(\"Objective: \",value(model.objective))\n",
    "print(\"Duration:\",timedelta(seconds=end_time - start_time))"
   ]
  },
  {
   "cell_type": "code",
   "execution_count": null,
   "metadata": {
    "collapsed": true
   },
   "outputs": [],
   "source": []
  },
  {
   "cell_type": "code",
   "execution_count": null,
   "metadata": {
    "collapsed": true
   },
   "outputs": [],
   "source": []
  },
  {
   "cell_type": "code",
   "execution_count": null,
   "metadata": {
    "collapsed": true
   },
   "outputs": [],
   "source": []
  },
  {
   "cell_type": "code",
   "execution_count": null,
   "metadata": {
    "collapsed": true
   },
   "outputs": [],
   "source": []
  },
  {
   "cell_type": "code",
   "execution_count": null,
   "metadata": {
    "collapsed": true
   },
   "outputs": [],
   "source": []
  },
  {
   "cell_type": "code",
   "execution_count": null,
   "metadata": {
    "collapsed": true
   },
   "outputs": [],
   "source": []
  },
  {
   "cell_type": "code",
   "execution_count": null,
   "metadata": {
    "collapsed": true
   },
   "outputs": [],
   "source": []
  },
  {
   "cell_type": "code",
   "execution_count": null,
   "metadata": {
    "collapsed": true
   },
   "outputs": [],
   "source": []
  },
  {
   "cell_type": "code",
   "execution_count": null,
   "metadata": {
    "collapsed": true
   },
   "outputs": [],
   "source": []
  },
  {
   "cell_type": "code",
   "execution_count": null,
   "metadata": {
    "collapsed": true
   },
   "outputs": [],
   "source": []
  },
  {
   "cell_type": "code",
   "execution_count": null,
   "metadata": {
    "collapsed": true
   },
   "outputs": [],
   "source": []
  },
  {
   "cell_type": "code",
   "execution_count": null,
   "metadata": {
    "collapsed": true
   },
   "outputs": [],
   "source": []
  }
 ],
 "metadata": {
  "anaconda-cloud": {},
  "kernelspec": {
   "display_name": "Python [conda root]",
   "language": "python",
   "name": "conda-root-py"
  },
  "language_info": {
   "codemirror_mode": {
    "name": "ipython",
    "version": 3
   },
   "file_extension": ".py",
   "mimetype": "text/x-python",
   "name": "python",
   "nbconvert_exporter": "python",
   "pygments_lexer": "ipython3",
   "version": "3.5.2"
  }
 },
 "nbformat": 4,
 "nbformat_minor": 1
}
