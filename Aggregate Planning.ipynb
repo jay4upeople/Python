{
 "cells": [
  {
   "cell_type": "markdown",
   "metadata": {},
   "source": [
    "# optimization program"
   ]
  },
  {
   "cell_type": "code",
   "execution_count": 1,
   "metadata": {
    "collapsed": true
   },
   "outputs": [],
   "source": [
    "from pulp import *\n",
    "import time\n",
    "from datetime import timedelta"
   ]
  },
  {
   "cell_type": "markdown",
   "metadata": {
    "collapsed": true
   },
   "source": [
    "# iteration variables\n",
    "\n",
    "     t    month"
   ]
  },
  {
   "cell_type": "code",
   "execution_count": 2,
   "metadata": {
    "collapsed": false
   },
   "outputs": [],
   "source": [
    "month = [0,1,2,3,4,5,6,7,8,9,10,11,12]\n",
    "m = len(month)\n",
    "demand = [0,21306,20477,18203,11106,5692,8616,9828,10273,14217,9520,18007,21662]\n",
    "D = dict(zip(month,demand))"
   ]
  },
  {
   "cell_type": "markdown",
   "metadata": {},
   "source": [
    "# Decision variables\n",
    "\n",
    "   \n",
    "    Pt   Workers assigned to production in month t\n",
    "    Tt   Workers assigned to training in month t\n",
    "    Lt   Laid off workers in month t\n",
    "    Ft   Workers fired at the beginning of month t\n",
    "    Rt   Total recruits hired at the beginning of month t\n",
    "    It   Cumulative inventory at the end of month t\n",
    "    St   Cumulative shortages (backlogs) at the end of month t\n",
    "   \n"
   ]
  },
  {
   "cell_type": "code",
   "execution_count": 3,
   "metadata": {
    "collapsed": false
   },
   "outputs": [],
   "source": [
    "P = LpVariable.dicts('P', month, cat = 'Integer', lowBound = 0)\n",
    "T = LpVariable.dicts('T', month, cat = 'Integer', lowBound = 0)\n",
    "L = LpVariable.dicts('L', month, cat = 'Integer', lowBound = 0)\n",
    "F = LpVariable.dicts('F', month, cat = 'Integer', lowBound = 0)\n",
    "R = LpVariable.dicts('R', month, cat = 'Integer', lowBound = 0)\n",
    "I = LpVariable.dicts('I', month, cat = 'Integer', lowBound = 0)\n",
    "S = LpVariable.dicts('S', month, cat = 'Integer', lowBound = 0) \n",
    "W = LpVariable.dicts('W', month, cat = 'Integer', lowBound = 0)\n",
    "X = LpVariable.dicts('X', month, cat = 'Integer', lowBound = 0)"
   ]
  },
  {
   "cell_type": "markdown",
   "metadata": {},
   "source": [
    "# Parameters\n",
    "     Wt   Total workers at the begining of the month t, before firing\n",
    "     Xt   Number of units of C produced during month t"
   ]
  },
  {
   "cell_type": "markdown",
   "metadata": {},
   "source": [
    " # Objective function\n",
    " \n",
    "$ \\displaystyle MIN = 20000\\sum_{t=1}^{12}P_t  + 15000\\sum_{t=1}^{12} L_t+ 45000\\sum_{t=1}^{12} F_t + 8000\\sum_{t=1}^{12} R_t + 20000\\sum_{t=1}^{12} T_t + 10\\sum_{t=1}^{12} I_t + 5\\sum_{t=1}^{12} S_t $ "
   ]
  },
  {
   "cell_type": "code",
   "execution_count": 4,
   "metadata": {
    "collapsed": false
   },
   "outputs": [],
   "source": [
    "model = LpProblem(\"Aggregate Planning\", LpMinimize)\n",
    "model += 20000*sum(P[t] for t in month[1:13]) + 15000*sum(L[t] for t in month[1:13]) + 45000*sum(F[t] for t in month[1:13]) + 8000*sum(R[t] for t in month[1:13])  + 20000*sum(T[t] for t in month[1:13])+ 10*sum(I[t] for t in month[1:13]) + 5*sum(S[t] for t in month[1:13])"
   ]
  },
  {
   "cell_type": "markdown",
   "metadata": {},
   "source": [
    "# Data\n",
    "\n",
    "    W_1 = 10\n",
    "    I_0 = 1000\n",
    "    W_12 = 10\n",
    "    I_12 = 1000\n",
    "    S_12 = 0"
   ]
  },
  {
   "cell_type": "code",
   "execution_count": 5,
   "metadata": {
    "collapsed": false
   },
   "outputs": [],
   "source": [
    "model += I[0] == 1000\n",
    "model += S[0] == 0\n",
    "model += W[1] == 10\n",
    "model += W[12] == 10\n",
    "model += I[12] == 1000\n",
    "model += S[12] == 0\n",
    "#dummy\n",
    "model += W[0] == 0\n",
    "model += L[0] == 0\n",
    "model += R[0] == 0\n",
    "model += T[0] == 0\n",
    "model += X[0] == 0\n",
    "model += P[0] == 0\n",
    "model += F[0] == 0"
   ]
  },
  {
   "cell_type": "markdown",
   "metadata": {},
   "source": [
    "# Constraints\n",
    "\n",
    "### Size of workforce  \n",
    "$ \\displaystyle W_t = W_{t-1} + R_{t-1} - F_{t-1} $\n",
    "\n",
    "### Assignment of workforce\n",
    "$ \\displaystyle W_t = P_t + T_t + L_t + F_t $\n",
    "\n",
    "### Training\n",
    "$ \\displaystyle R_t \\leq 5T_t $\n",
    "\n",
    "\n",
    "### Demand / Inventory balance\n",
    "$ \\displaystyle X_t + I_{t-1} = D_t + S_{t-1} + I_t - S_t $\n",
    "\n",
    "\n",
    "### Production capacity\n",
    "$ \\displaystyle X_t \\leq 2000P_t $\n",
    "\n",
    "\n",
    "### Non-negativity constraints\n",
    "$ \\displaystyle P_t, T_t, L_t, F_t, R_t, I_t, S_t, X_t >= 0  \\quad  ∀ t = 1, 2, 3, ..., 12$\n",
    "\n",
    "\n",
    "### Integer constraints\n",
    "$ \\displaystyle P_t, T_t, L_t, F_t, R_t, I_t, S_t, X_t \\quad are \\, all \\,  integers $\n"
   ]
  },
  {
   "cell_type": "code",
   "execution_count": 6,
   "metadata": {
    "collapsed": false
   },
   "outputs": [],
   "source": [
    "# Constraints\n",
    "# Constraint 1\n",
    "for t in month[2:13]:\n",
    "    model += W[t] == W[t-1] + R[t-1] - F[t-1]"
   ]
  },
  {
   "cell_type": "code",
   "execution_count": 7,
   "metadata": {
    "collapsed": false
   },
   "outputs": [],
   "source": [
    "# Constraint 2\n",
    "for t in month[1:13]:\n",
    "    model += W[t] == P[t] + L[t] + F[t] + T[t]"
   ]
  },
  {
   "cell_type": "code",
   "execution_count": 8,
   "metadata": {
    "collapsed": false
   },
   "outputs": [],
   "source": [
    "# Constraint 3\n",
    "for t in month[1:13]:\n",
    "    model += R[t] <= 5*T[t]"
   ]
  },
  {
   "cell_type": "code",
   "execution_count": 9,
   "metadata": {
    "collapsed": false
   },
   "outputs": [],
   "source": [
    "#Constraint 4\n",
    "for t in month[1:13]:\n",
    "    model += X[t] + I[t-1] == D[t] + S[t-1] + I[t] - S[t]"
   ]
  },
  {
   "cell_type": "code",
   "execution_count": 10,
   "metadata": {
    "collapsed": true
   },
   "outputs": [],
   "source": [
    "# Constraint 5\n",
    "for t in month[1:13]:\n",
    "    model += X[t] <= 1500*P[t]"
   ]
  },
  {
   "cell_type": "code",
   "execution_count": 11,
   "metadata": {
    "collapsed": false
   },
   "outputs": [
    {
     "name": "stdout",
     "output_type": "stream",
     "text": [
      "Aggregate Planning:\n",
      "MINIMIZE\n",
      "45000*F_1 + 45000*F_10 + 45000*F_11 + 45000*F_12 + 45000*F_2 + 45000*F_3 + 45000*F_4 + 45000*F_5 + 45000*F_6 + 45000*F_7 + 45000*F_8 + 45000*F_9 + 10*I_1 + 10*I_10 + 10*I_11 + 10*I_12 + 10*I_2 + 10*I_3 + 10*I_4 + 10*I_5 + 10*I_6 + 10*I_7 + 10*I_8 + 10*I_9 + 15000*L_1 + 15000*L_10 + 15000*L_11 + 15000*L_12 + 15000*L_2 + 15000*L_3 + 15000*L_4 + 15000*L_5 + 15000*L_6 + 15000*L_7 + 15000*L_8 + 15000*L_9 + 20000*P_1 + 20000*P_10 + 20000*P_11 + 20000*P_12 + 20000*P_2 + 20000*P_3 + 20000*P_4 + 20000*P_5 + 20000*P_6 + 20000*P_7 + 20000*P_8 + 20000*P_9 + 8000*R_1 + 8000*R_10 + 8000*R_11 + 8000*R_12 + 8000*R_2 + 8000*R_3 + 8000*R_4 + 8000*R_5 + 8000*R_6 + 8000*R_7 + 8000*R_8 + 8000*R_9 + 5*S_1 + 5*S_10 + 5*S_11 + 5*S_12 + 5*S_2 + 5*S_3 + 5*S_4 + 5*S_5 + 5*S_6 + 5*S_7 + 5*S_8 + 5*S_9 + 20000*T_1 + 20000*T_10 + 20000*T_11 + 20000*T_12 + 20000*T_2 + 20000*T_3 + 20000*T_4 + 20000*T_5 + 20000*T_6 + 20000*T_7 + 20000*T_8 + 20000*T_9 + 0\n",
      "SUBJECT TO\n",
      "_C1: I_0 = 1000\n",
      "\n",
      "_C2: S_0 = 0\n",
      "\n",
      "_C3: W_1 = 10\n",
      "\n",
      "_C4: W_12 = 10\n",
      "\n",
      "_C5: I_12 = 1000\n",
      "\n",
      "_C6: S_12 = 0\n",
      "\n",
      "_C7: W_0 = 0\n",
      "\n",
      "_C8: L_0 = 0\n",
      "\n",
      "_C9: R_0 = 0\n",
      "\n",
      "_C10: T_0 = 0\n",
      "\n",
      "_C11: X_0 = 0\n",
      "\n",
      "_C12: P_0 = 0\n",
      "\n",
      "_C13: F_0 = 0\n",
      "\n",
      "_C14: F_1 - R_1 - W_1 + W_2 = 0\n",
      "\n",
      "_C15: F_2 - R_2 - W_2 + W_3 = 0\n",
      "\n",
      "_C16: F_3 - R_3 - W_3 + W_4 = 0\n",
      "\n",
      "_C17: F_4 - R_4 - W_4 + W_5 = 0\n",
      "\n",
      "_C18: F_5 - R_5 - W_5 + W_6 = 0\n",
      "\n",
      "_C19: F_6 - R_6 - W_6 + W_7 = 0\n",
      "\n",
      "_C20: F_7 - R_7 - W_7 + W_8 = 0\n",
      "\n",
      "_C21: F_8 - R_8 - W_8 + W_9 = 0\n",
      "\n",
      "_C22: F_9 - R_9 + W_10 - W_9 = 0\n",
      "\n",
      "_C23: F_10 - R_10 - W_10 + W_11 = 0\n",
      "\n",
      "_C24: F_11 - R_11 - W_11 + W_12 = 0\n",
      "\n",
      "_C25: - F_1 - L_1 - P_1 - T_1 + W_1 = 0\n",
      "\n",
      "_C26: - F_2 - L_2 - P_2 - T_2 + W_2 = 0\n",
      "\n",
      "_C27: - F_3 - L_3 - P_3 - T_3 + W_3 = 0\n",
      "\n",
      "_C28: - F_4 - L_4 - P_4 - T_4 + W_4 = 0\n",
      "\n",
      "_C29: - F_5 - L_5 - P_5 - T_5 + W_5 = 0\n",
      "\n",
      "_C30: - F_6 - L_6 - P_6 - T_6 + W_6 = 0\n",
      "\n",
      "_C31: - F_7 - L_7 - P_7 - T_7 + W_7 = 0\n",
      "\n",
      "_C32: - F_8 - L_8 - P_8 - T_8 + W_8 = 0\n",
      "\n",
      "_C33: - F_9 - L_9 - P_9 - T_9 + W_9 = 0\n",
      "\n",
      "_C34: - F_10 - L_10 - P_10 - T_10 + W_10 = 0\n",
      "\n",
      "_C35: - F_11 - L_11 - P_11 - T_11 + W_11 = 0\n",
      "\n",
      "_C36: - F_12 - L_12 - P_12 - T_12 + W_12 = 0\n",
      "\n",
      "_C37: R_1 - 5 T_1 <= 0\n",
      "\n",
      "_C38: R_2 - 5 T_2 <= 0\n",
      "\n",
      "_C39: R_3 - 5 T_3 <= 0\n",
      "\n",
      "_C40: R_4 - 5 T_4 <= 0\n",
      "\n",
      "_C41: R_5 - 5 T_5 <= 0\n",
      "\n",
      "_C42: R_6 - 5 T_6 <= 0\n",
      "\n",
      "_C43: R_7 - 5 T_7 <= 0\n",
      "\n",
      "_C44: R_8 - 5 T_8 <= 0\n",
      "\n",
      "_C45: R_9 - 5 T_9 <= 0\n",
      "\n",
      "_C46: R_10 - 5 T_10 <= 0\n",
      "\n",
      "_C47: R_11 - 5 T_11 <= 0\n",
      "\n",
      "_C48: R_12 - 5 T_12 <= 0\n",
      "\n",
      "_C49: I_0 - I_1 - S_0 + S_1 + X_1 = 21306\n",
      "\n",
      "_C50: I_1 - I_2 - S_1 + S_2 + X_2 = 20477\n",
      "\n",
      "_C51: I_2 - I_3 - S_2 + S_3 + X_3 = 18203\n",
      "\n",
      "_C52: I_3 - I_4 - S_3 + S_4 + X_4 = 11106\n",
      "\n",
      "_C53: I_4 - I_5 - S_4 + S_5 + X_5 = 5692\n",
      "\n",
      "_C54: I_5 - I_6 - S_5 + S_6 + X_6 = 8616\n",
      "\n",
      "_C55: I_6 - I_7 - S_6 + S_7 + X_7 = 9828\n",
      "\n",
      "_C56: I_7 - I_8 - S_7 + S_8 + X_8 = 10273\n",
      "\n",
      "_C57: I_8 - I_9 - S_8 + S_9 + X_9 = 14217\n",
      "\n",
      "_C58: - I_10 + I_9 + S_10 - S_9 + X_10 = 9520\n",
      "\n",
      "_C59: I_10 - I_11 - S_10 + S_11 + X_11 = 18007\n",
      "\n",
      "_C60: I_11 - I_12 - S_11 + S_12 + X_12 = 21662\n",
      "\n",
      "_C61: - 1500 P_1 + X_1 <= 0\n",
      "\n",
      "_C62: - 1500 P_2 + X_2 <= 0\n",
      "\n",
      "_C63: - 1500 P_3 + X_3 <= 0\n",
      "\n",
      "_C64: - 1500 P_4 + X_4 <= 0\n",
      "\n",
      "_C65: - 1500 P_5 + X_5 <= 0\n",
      "\n",
      "_C66: - 1500 P_6 + X_6 <= 0\n",
      "\n",
      "_C67: - 1500 P_7 + X_7 <= 0\n",
      "\n",
      "_C68: - 1500 P_8 + X_8 <= 0\n",
      "\n",
      "_C69: - 1500 P_9 + X_9 <= 0\n",
      "\n",
      "_C70: - 1500 P_10 + X_10 <= 0\n",
      "\n",
      "_C71: - 1500 P_11 + X_11 <= 0\n",
      "\n",
      "_C72: - 1500 P_12 + X_12 <= 0\n",
      "\n",
      "VARIABLES\n",
      "0 <= F_0 Integer\n",
      "0 <= F_1 Integer\n",
      "0 <= F_10 Integer\n",
      "0 <= F_11 Integer\n",
      "0 <= F_12 Integer\n",
      "0 <= F_2 Integer\n",
      "0 <= F_3 Integer\n",
      "0 <= F_4 Integer\n",
      "0 <= F_5 Integer\n",
      "0 <= F_6 Integer\n",
      "0 <= F_7 Integer\n",
      "0 <= F_8 Integer\n",
      "0 <= F_9 Integer\n",
      "0 <= I_0 Integer\n",
      "0 <= I_1 Integer\n",
      "0 <= I_10 Integer\n",
      "0 <= I_11 Integer\n",
      "0 <= I_12 Integer\n",
      "0 <= I_2 Integer\n",
      "0 <= I_3 Integer\n",
      "0 <= I_4 Integer\n",
      "0 <= I_5 Integer\n",
      "0 <= I_6 Integer\n",
      "0 <= I_7 Integer\n",
      "0 <= I_8 Integer\n",
      "0 <= I_9 Integer\n",
      "0 <= L_0 Integer\n",
      "0 <= L_1 Integer\n",
      "0 <= L_10 Integer\n",
      "0 <= L_11 Integer\n",
      "0 <= L_12 Integer\n",
      "0 <= L_2 Integer\n",
      "0 <= L_3 Integer\n",
      "0 <= L_4 Integer\n",
      "0 <= L_5 Integer\n",
      "0 <= L_6 Integer\n",
      "0 <= L_7 Integer\n",
      "0 <= L_8 Integer\n",
      "0 <= L_9 Integer\n",
      "0 <= P_0 Integer\n",
      "0 <= P_1 Integer\n",
      "0 <= P_10 Integer\n",
      "0 <= P_11 Integer\n",
      "0 <= P_12 Integer\n",
      "0 <= P_2 Integer\n",
      "0 <= P_3 Integer\n",
      "0 <= P_4 Integer\n",
      "0 <= P_5 Integer\n",
      "0 <= P_6 Integer\n",
      "0 <= P_7 Integer\n",
      "0 <= P_8 Integer\n",
      "0 <= P_9 Integer\n",
      "0 <= R_0 Integer\n",
      "0 <= R_1 Integer\n",
      "0 <= R_10 Integer\n",
      "0 <= R_11 Integer\n",
      "0 <= R_12 Integer\n",
      "0 <= R_2 Integer\n",
      "0 <= R_3 Integer\n",
      "0 <= R_4 Integer\n",
      "0 <= R_5 Integer\n",
      "0 <= R_6 Integer\n",
      "0 <= R_7 Integer\n",
      "0 <= R_8 Integer\n",
      "0 <= R_9 Integer\n",
      "0 <= S_0 Integer\n",
      "0 <= S_1 Integer\n",
      "0 <= S_10 Integer\n",
      "0 <= S_11 Integer\n",
      "0 <= S_12 Integer\n",
      "0 <= S_2 Integer\n",
      "0 <= S_3 Integer\n",
      "0 <= S_4 Integer\n",
      "0 <= S_5 Integer\n",
      "0 <= S_6 Integer\n",
      "0 <= S_7 Integer\n",
      "0 <= S_8 Integer\n",
      "0 <= S_9 Integer\n",
      "0 <= T_0 Integer\n",
      "0 <= T_1 Integer\n",
      "0 <= T_10 Integer\n",
      "0 <= T_11 Integer\n",
      "0 <= T_12 Integer\n",
      "0 <= T_2 Integer\n",
      "0 <= T_3 Integer\n",
      "0 <= T_4 Integer\n",
      "0 <= T_5 Integer\n",
      "0 <= T_6 Integer\n",
      "0 <= T_7 Integer\n",
      "0 <= T_8 Integer\n",
      "0 <= T_9 Integer\n",
      "0 <= W_0 Integer\n",
      "0 <= W_1 Integer\n",
      "0 <= W_10 Integer\n",
      "0 <= W_11 Integer\n",
      "0 <= W_12 Integer\n",
      "0 <= W_2 Integer\n",
      "0 <= W_3 Integer\n",
      "0 <= W_4 Integer\n",
      "0 <= W_5 Integer\n",
      "0 <= W_6 Integer\n",
      "0 <= W_7 Integer\n",
      "0 <= W_8 Integer\n",
      "0 <= W_9 Integer\n",
      "0 <= X_0 Integer\n",
      "0 <= X_1 Integer\n",
      "0 <= X_10 Integer\n",
      "0 <= X_11 Integer\n",
      "0 <= X_12 Integer\n",
      "0 <= X_2 Integer\n",
      "0 <= X_3 Integer\n",
      "0 <= X_4 Integer\n",
      "0 <= X_5 Integer\n",
      "0 <= X_6 Integer\n",
      "0 <= X_7 Integer\n",
      "0 <= X_8 Integer\n",
      "0 <= X_9 Integer\n",
      "\n"
     ]
    }
   ],
   "source": [
    "# save model to LP File\n",
    "model.writeLP('AggregatePlanning.lp')\n",
    "# view model\n",
    "print(model)"
   ]
  },
  {
   "cell_type": "code",
   "execution_count": 12,
   "metadata": {
    "collapsed": false
   },
   "outputs": [
    {
     "name": "stdout",
     "output_type": "stream",
     "text": [
      "Status: Optimal\n",
      "Objective:  2861015.0\n",
      "Duration: 0:00:00.718000\n"
     ]
    }
   ],
   "source": [
    "# solve the model\n",
    "start_time = time.monotonic()\n",
    "model.solve()\n",
    "end_time = time.monotonic()\n",
    "print(\"Status:\",LpStatus[model.status])\n",
    "print(\"Objective: \",value(model.objective))\n",
    "print(\"Duration:\",timedelta(seconds=end_time - start_time))"
   ]
  },
  {
   "cell_type": "markdown",
   "metadata": {},
   "source": [
    "### display optimized variable value"
   ]
  },
  {
   "cell_type": "code",
   "execution_count": 13,
   "metadata": {
    "collapsed": false
   },
   "outputs": [],
   "source": [
    "# create empty table\n",
    "import pandas as pd\n",
    "df = pd.DataFrame(index = range(0,13), columns=['month_ref','W','P','T','L','F','I','R','S','X','D'])\n",
    "df = df.fillna(0)\n",
    "# rearrange demand\n",
    "demand = [0,21306,9520,18007,21662,20477,18203,11106,5692,8616,9828,10273,14217]\n",
    "df['D'] = demand\n",
    "df['month_ref'] = model.variables()[0:13]"
   ]
  },
  {
   "cell_type": "code",
   "execution_count": 14,
   "metadata": {
    "collapsed": false
   },
   "outputs": [],
   "source": [
    "# function to get values\n",
    "import re\n",
    "def val(col, var):\n",
    "    x = pd.Series([0,0,0,0,0,0,0,0,0,0,0,0,0])\n",
    "    i = 0\n",
    "    for v in var:\n",
    "        if(re.compile(col).match(v.name,0)):\n",
    "            x[i] = v.varValue\n",
    "            i = i+1\n",
    "    return(x.values)"
   ]
  },
  {
   "cell_type": "code",
   "execution_count": 15,
   "metadata": {
    "collapsed": false
   },
   "outputs": [],
   "source": [
    "# store value in table\n",
    "df['F'] = val('F', model.variables())\n",
    "df['I'] = val('I', model.variables())\n",
    "df['L'] = val('L', model.variables())\n",
    "df['P'] = val('P', model.variables())\n",
    "df['R'] = val('R', model.variables())\n",
    "df['S'] = val('S', model.variables())\n",
    "df['T'] = val('T', model.variables())\n",
    "df['W'] = val('W', model.variables())\n",
    "df['X'] = val('X', model.variables())"
   ]
  },
  {
   "cell_type": "code",
   "execution_count": 16,
   "metadata": {
    "collapsed": false
   },
   "outputs": [
    {
     "data": {
      "text/html": [
       "<div>\n",
       "<table border=\"1\" class=\"dataframe\">\n",
       "  <thead>\n",
       "    <tr style=\"text-align: right;\">\n",
       "      <th></th>\n",
       "      <th>month_ref</th>\n",
       "      <th>W</th>\n",
       "      <th>P</th>\n",
       "      <th>T</th>\n",
       "      <th>L</th>\n",
       "      <th>F</th>\n",
       "      <th>I</th>\n",
       "      <th>R</th>\n",
       "      <th>S</th>\n",
       "      <th>X</th>\n",
       "      <th>D</th>\n",
       "    </tr>\n",
       "  </thead>\n",
       "  <tbody>\n",
       "    <tr>\n",
       "      <th>0</th>\n",
       "      <td>F_0</td>\n",
       "      <td>0</td>\n",
       "      <td>0</td>\n",
       "      <td>0</td>\n",
       "      <td>0</td>\n",
       "      <td>0</td>\n",
       "      <td>1000</td>\n",
       "      <td>0</td>\n",
       "      <td>0</td>\n",
       "      <td>0</td>\n",
       "      <td>0</td>\n",
       "    </tr>\n",
       "    <tr>\n",
       "      <th>1</th>\n",
       "      <td>F_1</td>\n",
       "      <td>10</td>\n",
       "      <td>10</td>\n",
       "      <td>0</td>\n",
       "      <td>0</td>\n",
       "      <td>0</td>\n",
       "      <td>0</td>\n",
       "      <td>0</td>\n",
       "      <td>5306</td>\n",
       "      <td>15000</td>\n",
       "      <td>21306</td>\n",
       "    </tr>\n",
       "    <tr>\n",
       "      <th>2</th>\n",
       "      <td>F_10</td>\n",
       "      <td>10</td>\n",
       "      <td>10</td>\n",
       "      <td>0</td>\n",
       "      <td>0</td>\n",
       "      <td>0</td>\n",
       "      <td>10669</td>\n",
       "      <td>0</td>\n",
       "      <td>0</td>\n",
       "      <td>15000</td>\n",
       "      <td>9520</td>\n",
       "    </tr>\n",
       "    <tr>\n",
       "      <th>3</th>\n",
       "      <td>F_11</td>\n",
       "      <td>10</td>\n",
       "      <td>10</td>\n",
       "      <td>0</td>\n",
       "      <td>0</td>\n",
       "      <td>0</td>\n",
       "      <td>7662</td>\n",
       "      <td>0</td>\n",
       "      <td>0</td>\n",
       "      <td>15000</td>\n",
       "      <td>18007</td>\n",
       "    </tr>\n",
       "    <tr>\n",
       "      <th>4</th>\n",
       "      <td>F_12</td>\n",
       "      <td>10</td>\n",
       "      <td>10</td>\n",
       "      <td>0</td>\n",
       "      <td>0</td>\n",
       "      <td>0</td>\n",
       "      <td>1000</td>\n",
       "      <td>0</td>\n",
       "      <td>0</td>\n",
       "      <td>15000</td>\n",
       "      <td>21662</td>\n",
       "    </tr>\n",
       "    <tr>\n",
       "      <th>5</th>\n",
       "      <td>F_2</td>\n",
       "      <td>10</td>\n",
       "      <td>10</td>\n",
       "      <td>0</td>\n",
       "      <td>0</td>\n",
       "      <td>0</td>\n",
       "      <td>0</td>\n",
       "      <td>0</td>\n",
       "      <td>10783</td>\n",
       "      <td>15000</td>\n",
       "      <td>20477</td>\n",
       "    </tr>\n",
       "    <tr>\n",
       "      <th>6</th>\n",
       "      <td>F_3</td>\n",
       "      <td>10</td>\n",
       "      <td>10</td>\n",
       "      <td>0</td>\n",
       "      <td>0</td>\n",
       "      <td>0</td>\n",
       "      <td>0</td>\n",
       "      <td>0</td>\n",
       "      <td>13986</td>\n",
       "      <td>15000</td>\n",
       "      <td>18203</td>\n",
       "    </tr>\n",
       "    <tr>\n",
       "      <th>7</th>\n",
       "      <td>F_4</td>\n",
       "      <td>10</td>\n",
       "      <td>10</td>\n",
       "      <td>0</td>\n",
       "      <td>0</td>\n",
       "      <td>0</td>\n",
       "      <td>0</td>\n",
       "      <td>0</td>\n",
       "      <td>10092</td>\n",
       "      <td>15000</td>\n",
       "      <td>11106</td>\n",
       "    </tr>\n",
       "    <tr>\n",
       "      <th>8</th>\n",
       "      <td>F_5</td>\n",
       "      <td>10</td>\n",
       "      <td>10</td>\n",
       "      <td>0</td>\n",
       "      <td>0</td>\n",
       "      <td>0</td>\n",
       "      <td>0</td>\n",
       "      <td>0</td>\n",
       "      <td>784</td>\n",
       "      <td>15000</td>\n",
       "      <td>5692</td>\n",
       "    </tr>\n",
       "    <tr>\n",
       "      <th>9</th>\n",
       "      <td>F_6</td>\n",
       "      <td>10</td>\n",
       "      <td>6</td>\n",
       "      <td>0</td>\n",
       "      <td>4</td>\n",
       "      <td>0</td>\n",
       "      <td>0</td>\n",
       "      <td>0</td>\n",
       "      <td>400</td>\n",
       "      <td>9000</td>\n",
       "      <td>8616</td>\n",
       "    </tr>\n",
       "    <tr>\n",
       "      <th>10</th>\n",
       "      <td>F_7</td>\n",
       "      <td>10</td>\n",
       "      <td>7</td>\n",
       "      <td>0</td>\n",
       "      <td>3</td>\n",
       "      <td>0</td>\n",
       "      <td>0</td>\n",
       "      <td>0</td>\n",
       "      <td>0</td>\n",
       "      <td>10228</td>\n",
       "      <td>9828</td>\n",
       "    </tr>\n",
       "    <tr>\n",
       "      <th>11</th>\n",
       "      <td>F_8</td>\n",
       "      <td>10</td>\n",
       "      <td>10</td>\n",
       "      <td>0</td>\n",
       "      <td>0</td>\n",
       "      <td>0</td>\n",
       "      <td>4406</td>\n",
       "      <td>0</td>\n",
       "      <td>0</td>\n",
       "      <td>14679</td>\n",
       "      <td>10273</td>\n",
       "    </tr>\n",
       "    <tr>\n",
       "      <th>12</th>\n",
       "      <td>F_9</td>\n",
       "      <td>10</td>\n",
       "      <td>10</td>\n",
       "      <td>0</td>\n",
       "      <td>0</td>\n",
       "      <td>0</td>\n",
       "      <td>5189</td>\n",
       "      <td>0</td>\n",
       "      <td>0</td>\n",
       "      <td>15000</td>\n",
       "      <td>14217</td>\n",
       "    </tr>\n",
       "  </tbody>\n",
       "</table>\n",
       "</div>"
      ],
      "text/plain": [
       "   month_ref   W   P  T  L  F      I  R      S      X      D\n",
       "0        F_0   0   0  0  0  0   1000  0      0      0      0\n",
       "1        F_1  10  10  0  0  0      0  0   5306  15000  21306\n",
       "2       F_10  10  10  0  0  0  10669  0      0  15000   9520\n",
       "3       F_11  10  10  0  0  0   7662  0      0  15000  18007\n",
       "4       F_12  10  10  0  0  0   1000  0      0  15000  21662\n",
       "5        F_2  10  10  0  0  0      0  0  10783  15000  20477\n",
       "6        F_3  10  10  0  0  0      0  0  13986  15000  18203\n",
       "7        F_4  10  10  0  0  0      0  0  10092  15000  11106\n",
       "8        F_5  10  10  0  0  0      0  0    784  15000   5692\n",
       "9        F_6  10   6  0  4  0      0  0    400   9000   8616\n",
       "10       F_7  10   7  0  3  0      0  0      0  10228   9828\n",
       "11       F_8  10  10  0  0  0   4406  0      0  14679  10273\n",
       "12       F_9  10  10  0  0  0   5189  0      0  15000  14217"
      ]
     },
     "execution_count": 16,
     "metadata": {},
     "output_type": "execute_result"
    }
   ],
   "source": [
    "# view table\n",
    "df"
   ]
  },
  {
   "cell_type": "code",
   "execution_count": 17,
   "metadata": {
    "collapsed": false
   },
   "outputs": [
    {
     "name": "stdout",
     "output_type": "stream",
     "text": [
      "Status: Optimal\n",
      "Objective:  2861015\n",
      "Duration: 0:00:00.515000\n"
     ]
    }
   ],
   "source": [
    "# solve the model\n",
    "start_time = time.monotonic()\n",
    "model.solve(GLPK_CMD())\n",
    "end_time = time.monotonic()\n",
    "print(\"Status:\",LpStatus[model.status])\n",
    "print(\"Objective: \",value(model.objective))\n",
    "print(\"Duration:\",timedelta(seconds=end_time - start_time))"
   ]
  },
  {
   "cell_type": "code",
   "execution_count": 18,
   "metadata": {
    "collapsed": false
   },
   "outputs": [
    {
     "name": "stdout",
     "output_type": "stream",
     "text": [
      "Optimize a model with 72 rows, 117 columns and 225 nonzeros\n",
      "Variable types: 0 continuous, 117 integer (0 binary)\n",
      "Coefficient statistics:\n",
      "  Matrix range     [1e+00, 2e+03]\n",
      "  Objective range  [5e+00, 5e+04]\n",
      "  Bounds range     [0e+00, 0e+00]\n",
      "  RHS range        [1e+01, 2e+04]\n",
      "Presolve removed 25 rows and 44 columns\n",
      "Presolve time: 0.05s\n",
      "Presolved: 47 rows, 73 columns, 164 nonzeros\n",
      "Variable types: 0 continuous, 73 integer (0 binary)\n",
      "\n",
      "Root relaxation: objective 2.857038e+06, 42 iterations, 0.00 seconds\n",
      "\n",
      "    Nodes    |    Current Node    |     Objective Bounds      |     Work\n",
      " Expl Unexpl |  Obj  Depth IntInf | Incumbent    BestBd   Gap | It/Node Time\n",
      "\n",
      "     0     0 2857038.33    0    3          - 2857038.33      -     -    0s\n",
      "H    0     0                    2864015.0000 2857038.33  0.24%     -    0s\n",
      "     0     0 2860681.59    0    1 2864015.00 2860681.59  0.12%     -    0s\n",
      "H    0     0                    2861015.0000 2860681.59  0.01%     -    0s\n",
      "     0     0 2860681.59    0    2 2861015.00 2860681.59  0.01%     -    0s\n",
      "\n",
      "Cutting planes:\n",
      "  Gomory: 2\n",
      "\n",
      "Explored 0 nodes (48 simplex iterations) in 0.60 seconds\n",
      "Thread count was 4 (of 4 available processors)\n",
      "\n",
      "Solution count 2: 2.86102e+06 2.86402e+06 \n",
      "Pool objective bound 2.86102e+06\n",
      "\n",
      "Optimal solution found (tolerance 1.00e-04)\n",
      "Best objective 2.861015000000e+06, best bound 2.861015000000e+06, gap 0.0000%\n",
      "Gurobi status= 2\n",
      "Status: Optimal\n",
      "Objective:  2861015.0\n",
      "Duration: 0:00:00.780000\n"
     ]
    }
   ],
   "source": [
    "# solve the model\n",
    "start_time = time.monotonic()\n",
    "model.solve(GUROBI())\n",
    "end_time = time.monotonic()\n",
    "print(\"Status:\",LpStatus[model.status])\n",
    "print(\"Objective: \",value(model.objective))\n",
    "print(\"Duration:\",timedelta(seconds=end_time - start_time))"
   ]
  },
  {
   "cell_type": "code",
   "execution_count": 19,
   "metadata": {
    "collapsed": false
   },
   "outputs": [
    {
     "name": "stdout",
     "output_type": "stream",
     "text": [
      "Status: Optimal\n",
      "Objective:  2861015.0000000014\n",
      "Duration: 0:00:00.952000\n"
     ]
    }
   ],
   "source": [
    "# solve the model\n",
    "start_time = time.monotonic()\n",
    "model.solve(CPLEX_CMD())\n",
    "end_time = time.monotonic()\n",
    "print(\"Status:\",LpStatus[model.status])\n",
    "print(\"Objective: \",value(model.objective))\n",
    "print(\"Duration:\",timedelta(seconds=end_time - start_time))"
   ]
  },
  {
   "cell_type": "code",
   "execution_count": 20,
   "metadata": {
    "collapsed": false
   },
   "outputs": [
    {
     "name": "stdout",
     "output_type": "stream",
     "text": [
      "Tried aggregator 2 times.\n",
      "MIP Presolve eliminated 16 rows and 20 columns.\n",
      "MIP Presolve added 11 rows and 11 columns.\n",
      "Aggregator did 19 substitutions.\n",
      "Reduced MIP has 48 rows, 89 columns, and 190 nonzeros.\n",
      "Reduced MIP has 0 binaries, 89 generals, 0 SOSs, and 0 indicators.\n",
      "Presolve time = 0.27 sec. (0.20 ticks)\n",
      "Tried aggregator 1 time.\n",
      "MIP Presolve eliminated 9 rows and 9 columns.\n",
      "MIP Presolve added 9 rows and 9 columns.\n",
      "Reduced MIP has 48 rows, 89 columns, and 190 nonzeros.\n",
      "Reduced MIP has 0 binaries, 89 generals, 0 SOSs, and 0 indicators.\n",
      "Presolve time = 0.02 sec. (0.08 ticks)\n",
      "MIP emphasis: balance optimality and feasibility.\n",
      "MIP search method: dynamic search.\n",
      "Parallel mode: deterministic, using up to 4 threads.\n",
      "Root relaxation solution time = 0.00 sec. (0.19 ticks)\n",
      "\n",
      "        Nodes                                         Cuts/\n",
      "   Node  Left     Objective  IInf  Best Integer    Best Bound    ItCnt     Gap\n",
      "\n",
      "      0     0  2857038.3333     6                2857038.3333       43         \n",
      "*     0+    0                      2864015.0000  2857038.3333             0.24%\n",
      "      0     0  2860681.5942     2  2864015.0000      Fract: 4       49    0.12%\n",
      "*     0+    0                      2862620.0000  2860681.5942             0.07%\n",
      "*     0     0      integral     0  2861015.0000      Fract: 1       50    0.00%\n",
      "      0     0        cutoff        2861015.0000  2861015.0000       50    0.00%\n",
      "Elapsed time = 0.70 sec. (1.62 ticks, tree = 0.01 MB, solutions = 3)\n",
      "\n",
      "Gomory fractional cuts applied:  5\n",
      "\n",
      "Root node processing (before b&c):\n",
      "  Real time             =    0.72 sec. (1.63 ticks)\n",
      "Parallel b&c, 4 threads:\n",
      "  Real time             =    0.00 sec. (0.00 ticks)\n",
      "  Sync time (average)   =    0.00 sec.\n",
      "  Wait time (average)   =    0.00 sec.\n",
      "                          ------------\n",
      "Total (root+branch&cut) =    0.72 sec. (1.63 ticks)\n",
      "Cplex status= 101\n",
      "Status: Optimal\n",
      "Objective:  2861015.0000000014\n",
      "Duration: 0:00:01.233000\n"
     ]
    }
   ],
   "source": [
    "# solve the model\n",
    "start_time = time.monotonic()\n",
    "model.solve(CPLEX_PY())\n",
    "end_time = time.monotonic()\n",
    "print(\"Status:\",LpStatus[model.status])\n",
    "print(\"Objective: \",value(model.objective))\n",
    "print(\"Duration:\",timedelta(seconds=end_time - start_time))"
   ]
  },
  {
   "cell_type": "code",
   "execution_count": null,
   "metadata": {
    "collapsed": true
   },
   "outputs": [],
   "source": []
  },
  {
   "cell_type": "code",
   "execution_count": null,
   "metadata": {
    "collapsed": true
   },
   "outputs": [],
   "source": []
  },
  {
   "cell_type": "code",
   "execution_count": null,
   "metadata": {
    "collapsed": true
   },
   "outputs": [],
   "source": []
  },
  {
   "cell_type": "code",
   "execution_count": null,
   "metadata": {
    "collapsed": true
   },
   "outputs": [],
   "source": []
  },
  {
   "cell_type": "code",
   "execution_count": null,
   "metadata": {
    "collapsed": true
   },
   "outputs": [],
   "source": []
  },
  {
   "cell_type": "code",
   "execution_count": null,
   "metadata": {
    "collapsed": true
   },
   "outputs": [],
   "source": []
  },
  {
   "cell_type": "code",
   "execution_count": null,
   "metadata": {
    "collapsed": true
   },
   "outputs": [],
   "source": []
  },
  {
   "cell_type": "code",
   "execution_count": null,
   "metadata": {
    "collapsed": true
   },
   "outputs": [],
   "source": []
  },
  {
   "cell_type": "code",
   "execution_count": null,
   "metadata": {
    "collapsed": true
   },
   "outputs": [],
   "source": []
  },
  {
   "cell_type": "code",
   "execution_count": null,
   "metadata": {
    "collapsed": true
   },
   "outputs": [],
   "source": []
  },
  {
   "cell_type": "code",
   "execution_count": null,
   "metadata": {
    "collapsed": true
   },
   "outputs": [],
   "source": []
  },
  {
   "cell_type": "code",
   "execution_count": null,
   "metadata": {
    "collapsed": true
   },
   "outputs": [],
   "source": []
  }
 ],
 "metadata": {
  "anaconda-cloud": {},
  "kernelspec": {
   "display_name": "Python [conda root]",
   "language": "python",
   "name": "conda-root-py"
  },
  "language_info": {
   "codemirror_mode": {
    "name": "ipython",
    "version": 3
   },
   "file_extension": ".py",
   "mimetype": "text/x-python",
   "name": "python",
   "nbconvert_exporter": "python",
   "pygments_lexer": "ipython3",
   "version": "3.5.2"
  }
 },
 "nbformat": 4,
 "nbformat_minor": 1
}
