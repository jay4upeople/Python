{
 "cells": [
  {
   "cell_type": "code",
   "execution_count": 1,
   "metadata": {
    "collapsed": true
   },
   "outputs": [],
   "source": [
    "from pulp import *"
   ]
  },
  {
   "cell_type": "code",
   "execution_count": 2,
   "metadata": {
    "collapsed": true
   },
   "outputs": [],
   "source": [
    "facility = ['f1','f2','f3']\n",
    "location = ['d1','d2','d3','d4','d5','d6','d7','d8']\n",
    "f = dict(zip(facility, [5000000, 4000000, 5500000]))\n",
    "K = dict(zip(facility, [1000000, 800000, 1250000]))\n",
    "D = dict(zip(location, [200000, 200000, 200000, 200000, 250000, 250000, 250000, 250000]))\n",
    "C = dict(zip(facility,[dict(zip(location, [4, 5, 5, 4, 4, 4.2, 3.3, 5])),\n",
    "                   dict(zip(location, [2.5, 3.5, 4.5, 3, 2.2, 4, 2.6, 5])),\n",
    "                   dict(zip(location, [2, 4, 5, 2.5, 2.6, 3.8, 2.9, 5.5]))]))\n",
    "p = 2\n",
    "\n"
   ]
  },
  {
   "cell_type": "code",
   "execution_count": 3,
   "metadata": {
    "collapsed": true
   },
   "outputs": [],
   "source": [
    "X = LpVariable.dicts('X%s%s', (facility, location), cat='Continuous', lowBound=0, upBound=None)\n",
    "Y = LpVariable.dicts('Y%s', facility, cat='Binary', lowBound=0, upBound=1)\n"
   ]
  },
  {
   "cell_type": "code",
   "execution_count": 4,
   "metadata": {
    "collapsed": true
   },
   "outputs": [],
   "source": [
    "prob = LpProblem('Fixed Charge', LpMinimize)\n",
    "tmp1 = sum(f[i] * Y[i] for i in facility)\n",
    "tmp2 = sum(sum(C[i][j] * X[i][j] for j in location) for i in facility)\n",
    "prob += tmp1 + tmp2\n"
   ]
  },
  {
   "cell_type": "code",
   "execution_count": 5,
   "metadata": {
    "collapsed": true
   },
   "outputs": [],
   "source": [
    "prob += sum(Y[i] for i in facility) == p\n",
    "for i in facility:\n",
    "    prob += sum(X[i][j] for j in location) <= K[i]*Y[i]\n",
    "for j in location:\n",
    "    prob += sum(X[i][j] for i in facility) >= D[j]\n"
   ]
  },
  {
   "cell_type": "code",
   "execution_count": 6,
   "metadata": {
    "collapsed": true
   },
   "outputs": [],
   "source": [
    "prob.writeLP(\"fixed-charge.lp\")"
   ]
  },
  {
   "cell_type": "code",
   "execution_count": 7,
   "metadata": {
    "collapsed": false
   },
   "outputs": [
    {
     "name": "stdout",
     "output_type": "stream",
     "text": [
      "Fixed Charge:\n",
      "MINIMIZE\n",
      "4*Xf1d1 + 5*Xf1d2 + 5*Xf1d3 + 4*Xf1d4 + 4*Xf1d5 + 4.2*Xf1d6 + 3.3*Xf1d7 + 5*Xf1d8 + 2.5*Xf2d1 + 3.5*Xf2d2 + 4.5*Xf2d3 + 3*Xf2d4 + 2.2*Xf2d5 + 4*Xf2d6 + 2.6*Xf2d7 + 5*Xf2d8 + 2*Xf3d1 + 4*Xf3d2 + 5*Xf3d3 + 2.5*Xf3d4 + 2.6*Xf3d5 + 3.8*Xf3d6 + 2.9*Xf3d7 + 5.5*Xf3d8 + 5000000*Yf1 + 4000000*Yf2 + 5500000*Yf3 + 0.0\n",
      "SUBJECT TO\n",
      "_C1: Yf1 + Yf2 + Yf3 = 2\n",
      "\n",
      "_C2: Xf1d1 + Xf1d2 + Xf1d3 + Xf1d4 + Xf1d5 + Xf1d6 + Xf1d7 + Xf1d8\n",
      " - 1000000 Yf1 <= 0\n",
      "\n",
      "_C3: Xf2d1 + Xf2d2 + Xf2d3 + Xf2d4 + Xf2d5 + Xf2d6 + Xf2d7 + Xf2d8\n",
      " - 800000 Yf2 <= 0\n",
      "\n",
      "_C4: Xf3d1 + Xf3d2 + Xf3d3 + Xf3d4 + Xf3d5 + Xf3d6 + Xf3d7 + Xf3d8\n",
      " - 1250000 Yf3 <= 0\n",
      "\n",
      "_C5: Xf1d1 + Xf2d1 + Xf3d1 >= 200000\n",
      "\n",
      "_C6: Xf1d2 + Xf2d2 + Xf3d2 >= 200000\n",
      "\n",
      "_C7: Xf1d3 + Xf2d3 + Xf3d3 >= 200000\n",
      "\n",
      "_C8: Xf1d4 + Xf2d4 + Xf3d4 >= 200000\n",
      "\n",
      "_C9: Xf1d5 + Xf2d5 + Xf3d5 >= 250000\n",
      "\n",
      "_C10: Xf1d6 + Xf2d6 + Xf3d6 >= 250000\n",
      "\n",
      "_C11: Xf1d7 + Xf2d7 + Xf3d7 >= 250000\n",
      "\n",
      "_C12: Xf1d8 + Xf2d8 + Xf3d8 >= 250000\n",
      "\n",
      "VARIABLES\n",
      "Xf1d1 Continuous\n",
      "Xf1d2 Continuous\n",
      "Xf1d3 Continuous\n",
      "Xf1d4 Continuous\n",
      "Xf1d5 Continuous\n",
      "Xf1d6 Continuous\n",
      "Xf1d7 Continuous\n",
      "Xf1d8 Continuous\n",
      "Xf2d1 Continuous\n",
      "Xf2d2 Continuous\n",
      "Xf2d3 Continuous\n",
      "Xf2d4 Continuous\n",
      "Xf2d5 Continuous\n",
      "Xf2d6 Continuous\n",
      "Xf2d7 Continuous\n",
      "Xf2d8 Continuous\n",
      "Xf3d1 Continuous\n",
      "Xf3d2 Continuous\n",
      "Xf3d3 Continuous\n",
      "Xf3d4 Continuous\n",
      "Xf3d5 Continuous\n",
      "Xf3d6 Continuous\n",
      "Xf3d7 Continuous\n",
      "Xf3d8 Continuous\n",
      "0 <= Yf1 <= 1 Integer\n",
      "0 <= Yf2 <= 1 Integer\n",
      "0 <= Yf3 <= 1 Integer\n",
      "\n"
     ]
    }
   ],
   "source": [
    "print(prob)"
   ]
  },
  {
   "cell_type": "code",
   "execution_count": 8,
   "metadata": {
    "collapsed": false
   },
   "outputs": [
    {
     "name": "stdout",
     "output_type": "stream",
     "text": [
      "Status: Optimal\n",
      "Objective:  15515000.0\n",
      "Xf1d1 = 0.0\n",
      "Xf1d2 = 0.0\n",
      "Xf1d3 = 0.0\n",
      "Xf1d4 = 0.0\n",
      "Xf1d5 = 0.0\n",
      "Xf1d6 = 0.0\n",
      "Xf1d7 = 0.0\n",
      "Xf1d8 = 0.0\n",
      "Xf2d1 = 0.0\n",
      "Xf2d2 = 200000.0\n",
      "Xf2d3 = 200000.0\n",
      "Xf2d4 = 0.0\n",
      "Xf2d5 = 150000.0\n",
      "Xf2d6 = 0.0\n",
      "Xf2d7 = 0.0\n",
      "Xf2d8 = 250000.0\n",
      "Xf3d1 = 200000.0\n",
      "Xf3d2 = 0.0\n",
      "Xf3d3 = 0.0\n",
      "Xf3d4 = 200000.0\n",
      "Xf3d5 = 100000.0\n",
      "Xf3d6 = 250000.0\n",
      "Xf3d7 = 250000.0\n",
      "Xf3d8 = 0.0\n",
      "Yf1 = 0.0\n",
      "Yf2 = 1.0\n",
      "Yf3 = 1.0\n"
     ]
    }
   ],
   "source": [
    "prob.solve()\n",
    "print(\"Status:\",LpStatus[prob.status])\n",
    "print(\"Objective: \",value(prob.objective))\n",
    "for v in prob.variables():\n",
    "    print (v.name , \"=\", v.varValue)\n"
   ]
  },
  {
   "cell_type": "code",
   "execution_count": null,
   "metadata": {
    "collapsed": true
   },
   "outputs": [],
   "source": [
    " "
   ]
  }
 ],
 "metadata": {
  "kernelspec": {
   "display_name": "Python [conda root]",
   "language": "python",
   "name": "conda-root-py"
  },
  "language_info": {
   "codemirror_mode": {
    "name": "ipython",
    "version": 3
   },
   "file_extension": ".py",
   "mimetype": "text/x-python",
   "name": "python",
   "nbconvert_exporter": "python",
   "pygments_lexer": "ipython3",
   "version": "3.5.2"
  }
 },
 "nbformat": 4,
 "nbformat_minor": 1
}
