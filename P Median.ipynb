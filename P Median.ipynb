{
 "cells": [
  {
   "cell_type": "code",
   "execution_count": 1,
   "metadata": {
    "collapsed": true
   },
   "outputs": [],
   "source": [
    "from pulp import *\n"
   ]
  },
  {
   "cell_type": "code",
   "execution_count": 2,
   "metadata": {
    "collapsed": true
   },
   "outputs": [],
   "source": [
    "location = ['Kurudampalayam','Ashokapuram','Peelamedu','Vellalore','KovaiPudur','Vadavalli']\n",
    "D = dict(zip(location,[dict(zip(location, [0, 5.6, 17.4, 21.8, 19.4, 11.4])),\n",
    "                   dict(zip(location, [5.6, 0, 11.6, 19.6, 21.7, 13])),\n",
    "                   dict(zip(location, [17.4, 11.6, 0, 8, 18.3, 16.8])),\n",
    "                   dict(zip(location, [21.8, 19.6, 8, 0, 16.9, 20.1])),   \n",
    "                   dict(zip(location, [19.4, 21.7, 18.3, 16.9, 0, 13.6])),   \n",
    "                   dict(zip(location, [11.4, 13, 16.8, 20.1, 13.6, 0]))]))\n",
    "p  = 2\n"
   ]
  },
  {
   "cell_type": "code",
   "execution_count": 3,
   "metadata": {
    "collapsed": true
   },
   "outputs": [],
   "source": [
    "X = LpVariable.dicts('X_%s_%s', (location,location), cat='Binary', lowBound=0, upBound=1)"
   ]
  },
  {
   "cell_type": "code",
   "execution_count": 4,
   "metadata": {
    "collapsed": true
   },
   "outputs": [],
   "source": [
    "prob = LpProblem('P Median', LpMinimize)\n",
    "prob += sum(sum(D[i][j] * X[i][j] for j in location) for i in location)\n"
   ]
  },
  {
   "cell_type": "code",
   "execution_count": 5,
   "metadata": {
    "collapsed": true
   },
   "outputs": [],
   "source": [
    "prob += sum(X[i][i] for i in location) == p\n",
    "for i in location:\n",
    "    prob += sum(X[i][j] for j in location) == 1\n",
    "for i in location:\n",
    "    for j in location:\n",
    "        prob += X[i][j] <= X[j][j]\n"
   ]
  },
  {
   "cell_type": "code",
   "execution_count": 6,
   "metadata": {
    "collapsed": true
   },
   "outputs": [],
   "source": [
    "prob.writeLP(\"p-median.lp\")"
   ]
  },
  {
   "cell_type": "code",
   "execution_count": 7,
   "metadata": {
    "collapsed": false
   },
   "outputs": [
    {
     "name": "stdout",
     "output_type": "stream",
     "text": [
      "P Median:\n",
      "MINIMIZE\n",
      "21.7*X_Ashokapuram_KovaiPudur + 5.6*X_Ashokapuram_Kurudampalayam + 11.6*X_Ashokapuram_Peelamedu + 13*X_Ashokapuram_Vadavalli + 19.6*X_Ashokapuram_Vellalore + 21.7*X_KovaiPudur_Ashokapuram + 19.4*X_KovaiPudur_Kurudampalayam + 18.3*X_KovaiPudur_Peelamedu + 13.6*X_KovaiPudur_Vadavalli + 16.9*X_KovaiPudur_Vellalore + 5.6*X_Kurudampalayam_Ashokapuram + 19.4*X_Kurudampalayam_KovaiPudur + 17.4*X_Kurudampalayam_Peelamedu + 11.4*X_Kurudampalayam_Vadavalli + 21.8*X_Kurudampalayam_Vellalore + 11.6*X_Peelamedu_Ashokapuram + 18.3*X_Peelamedu_KovaiPudur + 17.4*X_Peelamedu_Kurudampalayam + 16.8*X_Peelamedu_Vadavalli + 8*X_Peelamedu_Vellalore + 13*X_Vadavalli_Ashokapuram + 13.6*X_Vadavalli_KovaiPudur + 11.4*X_Vadavalli_Kurudampalayam + 16.8*X_Vadavalli_Peelamedu + 20.1*X_Vadavalli_Vellalore + 19.6*X_Vellalore_Ashokapuram + 16.9*X_Vellalore_KovaiPudur + 21.8*X_Vellalore_Kurudampalayam + 8*X_Vellalore_Peelamedu + 20.1*X_Vellalore_Vadavalli + 0.0\n",
      "SUBJECT TO\n",
      "_C1: X_Ashokapuram_Ashokapuram + X_KovaiPudur_KovaiPudur\n",
      " + X_Kurudampalayam_Kurudampalayam + X_Peelamedu_Peelamedu\n",
      " + X_Vadavalli_Vadavalli + X_Vellalore_Vellalore = 2\n",
      "\n",
      "_C2: X_Kurudampalayam_Ashokapuram + X_Kurudampalayam_KovaiPudur\n",
      " + X_Kurudampalayam_Kurudampalayam + X_Kurudampalayam_Peelamedu\n",
      " + X_Kurudampalayam_Vadavalli + X_Kurudampalayam_Vellalore = 1\n",
      "\n",
      "_C3: X_Ashokapuram_Ashokapuram + X_Ashokapuram_KovaiPudur\n",
      " + X_Ashokapuram_Kurudampalayam + X_Ashokapuram_Peelamedu\n",
      " + X_Ashokapuram_Vadavalli + X_Ashokapuram_Vellalore = 1\n",
      "\n",
      "_C4: X_Peelamedu_Ashokapuram + X_Peelamedu_KovaiPudur\n",
      " + X_Peelamedu_Kurudampalayam + X_Peelamedu_Peelamedu + X_Peelamedu_Vadavalli\n",
      " + X_Peelamedu_Vellalore = 1\n",
      "\n",
      "_C5: X_Vellalore_Ashokapuram + X_Vellalore_KovaiPudur\n",
      " + X_Vellalore_Kurudampalayam + X_Vellalore_Peelamedu + X_Vellalore_Vadavalli\n",
      " + X_Vellalore_Vellalore = 1\n",
      "\n",
      "_C6: X_KovaiPudur_Ashokapuram + X_KovaiPudur_KovaiPudur\n",
      " + X_KovaiPudur_Kurudampalayam + X_KovaiPudur_Peelamedu\n",
      " + X_KovaiPudur_Vadavalli + X_KovaiPudur_Vellalore = 1\n",
      "\n",
      "_C7: X_Vadavalli_Ashokapuram + X_Vadavalli_KovaiPudur\n",
      " + X_Vadavalli_Kurudampalayam + X_Vadavalli_Peelamedu + X_Vadavalli_Vadavalli\n",
      " + X_Vadavalli_Vellalore = 1\n",
      "\n",
      "_C8: 0 X_Kurudampalayam_Kurudampalayam <= 0\n",
      "\n",
      "_C9: - X_Ashokapuram_Ashokapuram + X_Kurudampalayam_Ashokapuram <= 0\n",
      "\n",
      "_C10: X_Kurudampalayam_Peelamedu - X_Peelamedu_Peelamedu <= 0\n",
      "\n",
      "_C11: X_Kurudampalayam_Vellalore - X_Vellalore_Vellalore <= 0\n",
      "\n",
      "_C12: - X_KovaiPudur_KovaiPudur + X_Kurudampalayam_KovaiPudur <= 0\n",
      "\n",
      "_C13: X_Kurudampalayam_Vadavalli - X_Vadavalli_Vadavalli <= 0\n",
      "\n",
      "_C14: X_Ashokapuram_Kurudampalayam - X_Kurudampalayam_Kurudampalayam <= 0\n",
      "\n",
      "_C15: 0 X_Ashokapuram_Ashokapuram <= 0\n",
      "\n",
      "_C16: X_Ashokapuram_Peelamedu - X_Peelamedu_Peelamedu <= 0\n",
      "\n",
      "_C17: X_Ashokapuram_Vellalore - X_Vellalore_Vellalore <= 0\n",
      "\n",
      "_C18: X_Ashokapuram_KovaiPudur - X_KovaiPudur_KovaiPudur <= 0\n",
      "\n",
      "_C19: X_Ashokapuram_Vadavalli - X_Vadavalli_Vadavalli <= 0\n",
      "\n",
      "_C20: - X_Kurudampalayam_Kurudampalayam + X_Peelamedu_Kurudampalayam <= 0\n",
      "\n",
      "_C21: - X_Ashokapuram_Ashokapuram + X_Peelamedu_Ashokapuram <= 0\n",
      "\n",
      "_C22: 0 X_Peelamedu_Peelamedu <= 0\n",
      "\n",
      "_C23: X_Peelamedu_Vellalore - X_Vellalore_Vellalore <= 0\n",
      "\n",
      "_C24: - X_KovaiPudur_KovaiPudur + X_Peelamedu_KovaiPudur <= 0\n",
      "\n",
      "_C25: X_Peelamedu_Vadavalli - X_Vadavalli_Vadavalli <= 0\n",
      "\n",
      "_C26: - X_Kurudampalayam_Kurudampalayam + X_Vellalore_Kurudampalayam <= 0\n",
      "\n",
      "_C27: - X_Ashokapuram_Ashokapuram + X_Vellalore_Ashokapuram <= 0\n",
      "\n",
      "_C28: - X_Peelamedu_Peelamedu + X_Vellalore_Peelamedu <= 0\n",
      "\n",
      "_C29: 0 X_Vellalore_Vellalore <= 0\n",
      "\n",
      "_C30: - X_KovaiPudur_KovaiPudur + X_Vellalore_KovaiPudur <= 0\n",
      "\n",
      "_C31: - X_Vadavalli_Vadavalli + X_Vellalore_Vadavalli <= 0\n",
      "\n",
      "_C32: X_KovaiPudur_Kurudampalayam - X_Kurudampalayam_Kurudampalayam <= 0\n",
      "\n",
      "_C33: - X_Ashokapuram_Ashokapuram + X_KovaiPudur_Ashokapuram <= 0\n",
      "\n",
      "_C34: X_KovaiPudur_Peelamedu - X_Peelamedu_Peelamedu <= 0\n",
      "\n",
      "_C35: X_KovaiPudur_Vellalore - X_Vellalore_Vellalore <= 0\n",
      "\n",
      "_C36: 0 X_KovaiPudur_KovaiPudur <= 0\n",
      "\n",
      "_C37: X_KovaiPudur_Vadavalli - X_Vadavalli_Vadavalli <= 0\n",
      "\n",
      "_C38: - X_Kurudampalayam_Kurudampalayam + X_Vadavalli_Kurudampalayam <= 0\n",
      "\n",
      "_C39: - X_Ashokapuram_Ashokapuram + X_Vadavalli_Ashokapuram <= 0\n",
      "\n",
      "_C40: - X_Peelamedu_Peelamedu + X_Vadavalli_Peelamedu <= 0\n",
      "\n",
      "_C41: X_Vadavalli_Vellalore - X_Vellalore_Vellalore <= 0\n",
      "\n",
      "_C42: - X_KovaiPudur_KovaiPudur + X_Vadavalli_KovaiPudur <= 0\n",
      "\n",
      "_C43: 0 X_Vadavalli_Vadavalli <= 0\n",
      "\n",
      "VARIABLES\n",
      "0 <= X_Ashokapuram_Ashokapuram <= 1 Integer\n",
      "0 <= X_Ashokapuram_KovaiPudur <= 1 Integer\n",
      "0 <= X_Ashokapuram_Kurudampalayam <= 1 Integer\n",
      "0 <= X_Ashokapuram_Peelamedu <= 1 Integer\n",
      "0 <= X_Ashokapuram_Vadavalli <= 1 Integer\n",
      "0 <= X_Ashokapuram_Vellalore <= 1 Integer\n",
      "0 <= X_KovaiPudur_Ashokapuram <= 1 Integer\n",
      "0 <= X_KovaiPudur_KovaiPudur <= 1 Integer\n",
      "0 <= X_KovaiPudur_Kurudampalayam <= 1 Integer\n",
      "0 <= X_KovaiPudur_Peelamedu <= 1 Integer\n",
      "0 <= X_KovaiPudur_Vadavalli <= 1 Integer\n",
      "0 <= X_KovaiPudur_Vellalore <= 1 Integer\n",
      "0 <= X_Kurudampalayam_Ashokapuram <= 1 Integer\n",
      "0 <= X_Kurudampalayam_KovaiPudur <= 1 Integer\n",
      "0 <= X_Kurudampalayam_Kurudampalayam <= 1 Integer\n",
      "0 <= X_Kurudampalayam_Peelamedu <= 1 Integer\n",
      "0 <= X_Kurudampalayam_Vadavalli <= 1 Integer\n",
      "0 <= X_Kurudampalayam_Vellalore <= 1 Integer\n",
      "0 <= X_Peelamedu_Ashokapuram <= 1 Integer\n",
      "0 <= X_Peelamedu_KovaiPudur <= 1 Integer\n",
      "0 <= X_Peelamedu_Kurudampalayam <= 1 Integer\n",
      "0 <= X_Peelamedu_Peelamedu <= 1 Integer\n",
      "0 <= X_Peelamedu_Vadavalli <= 1 Integer\n",
      "0 <= X_Peelamedu_Vellalore <= 1 Integer\n",
      "0 <= X_Vadavalli_Ashokapuram <= 1 Integer\n",
      "0 <= X_Vadavalli_KovaiPudur <= 1 Integer\n",
      "0 <= X_Vadavalli_Kurudampalayam <= 1 Integer\n",
      "0 <= X_Vadavalli_Peelamedu <= 1 Integer\n",
      "0 <= X_Vadavalli_Vadavalli <= 1 Integer\n",
      "0 <= X_Vadavalli_Vellalore <= 1 Integer\n",
      "0 <= X_Vellalore_Ashokapuram <= 1 Integer\n",
      "0 <= X_Vellalore_KovaiPudur <= 1 Integer\n",
      "0 <= X_Vellalore_Kurudampalayam <= 1 Integer\n",
      "0 <= X_Vellalore_Peelamedu <= 1 Integer\n",
      "0 <= X_Vellalore_Vadavalli <= 1 Integer\n",
      "0 <= X_Vellalore_Vellalore <= 1 Integer\n",
      "\n"
     ]
    }
   ],
   "source": [
    "print(prob)"
   ]
  },
  {
   "cell_type": "code",
   "execution_count": 9,
   "metadata": {
    "collapsed": false
   },
   "outputs": [
    {
     "name": "stdout",
     "output_type": "stream",
     "text": [
      "Status: Optimal\n",
      "Objective:  41.9\n",
      "X_Ashokapuram_Ashokapuram = 0.0\n",
      "X_Ashokapuram_KovaiPudur = 0.0\n",
      "X_Ashokapuram_Kurudampalayam = 1.0\n",
      "X_Ashokapuram_Peelamedu = 0.0\n",
      "X_Ashokapuram_Vadavalli = 0.0\n",
      "X_Ashokapuram_Vellalore = 0.0\n",
      "X_KovaiPudur_Ashokapuram = 0.0\n",
      "X_KovaiPudur_KovaiPudur = 0.0\n",
      "X_KovaiPudur_Kurudampalayam = 0.0\n",
      "X_KovaiPudur_Peelamedu = 0.0\n",
      "X_KovaiPudur_Vadavalli = 0.0\n",
      "X_KovaiPudur_Vellalore = 1.0\n",
      "X_Kurudampalayam_Ashokapuram = 0.0\n",
      "X_Kurudampalayam_KovaiPudur = 0.0\n",
      "X_Kurudampalayam_Kurudampalayam = 1.0\n",
      "X_Kurudampalayam_Peelamedu = 0.0\n",
      "X_Kurudampalayam_Vadavalli = 0.0\n",
      "X_Kurudampalayam_Vellalore = 0.0\n",
      "X_Peelamedu_Ashokapuram = 0.0\n",
      "X_Peelamedu_KovaiPudur = 0.0\n",
      "X_Peelamedu_Kurudampalayam = 0.0\n",
      "X_Peelamedu_Peelamedu = 0.0\n",
      "X_Peelamedu_Vadavalli = 0.0\n",
      "X_Peelamedu_Vellalore = 1.0\n",
      "X_Vadavalli_Ashokapuram = 0.0\n",
      "X_Vadavalli_KovaiPudur = 0.0\n",
      "X_Vadavalli_Kurudampalayam = 1.0\n",
      "X_Vadavalli_Peelamedu = 0.0\n",
      "X_Vadavalli_Vadavalli = 0.0\n",
      "X_Vadavalli_Vellalore = 0.0\n",
      "X_Vellalore_Ashokapuram = 0.0\n",
      "X_Vellalore_KovaiPudur = 0.0\n",
      "X_Vellalore_Kurudampalayam = 0.0\n",
      "X_Vellalore_Peelamedu = 0.0\n",
      "X_Vellalore_Vadavalli = 0.0\n",
      "X_Vellalore_Vellalore = 1.0\n"
     ]
    }
   ],
   "source": [
    "prob.solve()\n",
    "print(\"Status:\",LpStatus[prob.status])\n",
    "print(\"Objective: \",value(prob.objective))\n",
    "for v in prob.variables():\n",
    "    print (v.name , \"=\", v.varValue)\n"
   ]
  },
  {
   "cell_type": "code",
   "execution_count": null,
   "metadata": {
    "collapsed": true
   },
   "outputs": [],
   "source": []
  }
 ],
 "metadata": {
  "anaconda-cloud": {},
  "kernelspec": {
   "display_name": "Python [conda root]",
   "language": "python",
   "name": "conda-root-py"
  },
  "language_info": {
   "codemirror_mode": {
    "name": "ipython",
    "version": 3
   },
   "file_extension": ".py",
   "mimetype": "text/x-python",
   "name": "python",
   "nbconvert_exporter": "python",
   "pygments_lexer": "ipython3",
   "version": "3.5.2"
  }
 },
 "nbformat": 4,
 "nbformat_minor": 1
}
